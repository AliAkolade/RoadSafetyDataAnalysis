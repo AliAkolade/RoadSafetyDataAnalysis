{
 "cells": [
  {
   "cell_type": "code",
   "execution_count": 151,
   "outputs": [],
   "source": [
    "# Import Packages\n",
    "import pandas as pd"
   ],
   "metadata": {
    "collapsed": false
   }
  },
  {
   "cell_type": "code",
   "execution_count": 152,
   "id": "182a12b6",
   "metadata": {},
   "outputs": [],
   "source": [
    "#Load Initial Dataset\n",
    "df_accident=pd.read_csv('dft-road-casualty-statistics-accident-last-5-years.csv', low_memory=False)"
   ]
  },
  {
   "cell_type": "code",
   "execution_count": 153,
   "outputs": [
    {
     "data": {
      "text/plain": "  accident_index  accident_year accident_reference  location_easting_osgr  \\\n0  2017010001708           2017          010001708               532920.0   \n1  2017010009342           2017          010009342               526790.0   \n2  2017010009344           2017          010009344               535200.0   \n3  2017010009348           2017          010009348               534340.0   \n4  2017010009350           2017          010009350               533680.0   \n\n   location_northing_osgr  longitude   latitude  police_force  \\\n0                196330.0  -0.080107  51.650061             1   \n1                181970.0  -0.173845  51.522425             1   \n2                181260.0  -0.052969  51.514096             1   \n3                193560.0  -0.060658  51.624832             1   \n4                187820.0  -0.072372  51.573408             1   \n\n   accident_severity  number_of_vehicles  ...  \\\n0                  1                   2  ...   \n1                  3                   2  ...   \n2                  3                   3  ...   \n3                  3                   2  ...   \n4                  2                   1  ...   \n\n   pedestrian_crossing_physical_facilities light_conditions  \\\n0                                        0                4   \n1                                        0                4   \n2                                        0                4   \n3                                        4                4   \n4                                        5                4   \n\n   weather_conditions road_surface_conditions  special_conditions_at_site  \\\n0                   1                       1                           0   \n1                   1                       2                           0   \n2                   1                       1                           0   \n3                   2                       2                           0   \n4                   1                       2                           0   \n\n  carriageway_hazards urban_or_rural_area  \\\n0                   0                   1   \n1                   0                   1   \n2                   0                   1   \n3                   0                   1   \n4                   0                   1   \n\n   did_police_officer_attend_scene_of_accident  trunk_road_flag  \\\n0                                            1                2   \n1                                            1                2   \n2                                            1                2   \n3                                            1                2   \n4                                            1                2   \n\n   lsoa_of_accident_location  \n0                  E01001450  \n1                  E01004702  \n2                  E01004298  \n3                  E01001429  \n4                  E01001808  \n\n[5 rows x 36 columns]",
      "text/html": "<div>\n<style scoped>\n    .dataframe tbody tr th:only-of-type {\n        vertical-align: middle;\n    }\n\n    .dataframe tbody tr th {\n        vertical-align: top;\n    }\n\n    .dataframe thead th {\n        text-align: right;\n    }\n</style>\n<table border=\"1\" class=\"dataframe\">\n  <thead>\n    <tr style=\"text-align: right;\">\n      <th></th>\n      <th>accident_index</th>\n      <th>accident_year</th>\n      <th>accident_reference</th>\n      <th>location_easting_osgr</th>\n      <th>location_northing_osgr</th>\n      <th>longitude</th>\n      <th>latitude</th>\n      <th>police_force</th>\n      <th>accident_severity</th>\n      <th>number_of_vehicles</th>\n      <th>...</th>\n      <th>pedestrian_crossing_physical_facilities</th>\n      <th>light_conditions</th>\n      <th>weather_conditions</th>\n      <th>road_surface_conditions</th>\n      <th>special_conditions_at_site</th>\n      <th>carriageway_hazards</th>\n      <th>urban_or_rural_area</th>\n      <th>did_police_officer_attend_scene_of_accident</th>\n      <th>trunk_road_flag</th>\n      <th>lsoa_of_accident_location</th>\n    </tr>\n  </thead>\n  <tbody>\n    <tr>\n      <th>0</th>\n      <td>2017010001708</td>\n      <td>2017</td>\n      <td>010001708</td>\n      <td>532920.0</td>\n      <td>196330.0</td>\n      <td>-0.080107</td>\n      <td>51.650061</td>\n      <td>1</td>\n      <td>1</td>\n      <td>2</td>\n      <td>...</td>\n      <td>0</td>\n      <td>4</td>\n      <td>1</td>\n      <td>1</td>\n      <td>0</td>\n      <td>0</td>\n      <td>1</td>\n      <td>1</td>\n      <td>2</td>\n      <td>E01001450</td>\n    </tr>\n    <tr>\n      <th>1</th>\n      <td>2017010009342</td>\n      <td>2017</td>\n      <td>010009342</td>\n      <td>526790.0</td>\n      <td>181970.0</td>\n      <td>-0.173845</td>\n      <td>51.522425</td>\n      <td>1</td>\n      <td>3</td>\n      <td>2</td>\n      <td>...</td>\n      <td>0</td>\n      <td>4</td>\n      <td>1</td>\n      <td>2</td>\n      <td>0</td>\n      <td>0</td>\n      <td>1</td>\n      <td>1</td>\n      <td>2</td>\n      <td>E01004702</td>\n    </tr>\n    <tr>\n      <th>2</th>\n      <td>2017010009344</td>\n      <td>2017</td>\n      <td>010009344</td>\n      <td>535200.0</td>\n      <td>181260.0</td>\n      <td>-0.052969</td>\n      <td>51.514096</td>\n      <td>1</td>\n      <td>3</td>\n      <td>3</td>\n      <td>...</td>\n      <td>0</td>\n      <td>4</td>\n      <td>1</td>\n      <td>1</td>\n      <td>0</td>\n      <td>0</td>\n      <td>1</td>\n      <td>1</td>\n      <td>2</td>\n      <td>E01004298</td>\n    </tr>\n    <tr>\n      <th>3</th>\n      <td>2017010009348</td>\n      <td>2017</td>\n      <td>010009348</td>\n      <td>534340.0</td>\n      <td>193560.0</td>\n      <td>-0.060658</td>\n      <td>51.624832</td>\n      <td>1</td>\n      <td>3</td>\n      <td>2</td>\n      <td>...</td>\n      <td>4</td>\n      <td>4</td>\n      <td>2</td>\n      <td>2</td>\n      <td>0</td>\n      <td>0</td>\n      <td>1</td>\n      <td>1</td>\n      <td>2</td>\n      <td>E01001429</td>\n    </tr>\n    <tr>\n      <th>4</th>\n      <td>2017010009350</td>\n      <td>2017</td>\n      <td>010009350</td>\n      <td>533680.0</td>\n      <td>187820.0</td>\n      <td>-0.072372</td>\n      <td>51.573408</td>\n      <td>1</td>\n      <td>2</td>\n      <td>1</td>\n      <td>...</td>\n      <td>5</td>\n      <td>4</td>\n      <td>1</td>\n      <td>2</td>\n      <td>0</td>\n      <td>0</td>\n      <td>1</td>\n      <td>1</td>\n      <td>2</td>\n      <td>E01001808</td>\n    </tr>\n  </tbody>\n</table>\n<p>5 rows × 36 columns</p>\n</div>"
     },
     "execution_count": 153,
     "metadata": {},
     "output_type": "execute_result"
    }
   ],
   "source": [
    "#Display First 5 Rows\n",
    "df_accident.head()"
   ],
   "metadata": {
    "collapsed": false
   }
  },
  {
   "cell_type": "code",
   "execution_count": 154,
   "id": "9faf4793",
   "metadata": {},
   "outputs": [
    {
     "data": {
      "text/plain": "(562439, 36)"
     },
     "execution_count": 154,
     "metadata": {},
     "output_type": "execute_result"
    }
   ],
   "source": [
    "df_accident.shape"
   ]
  },
  {
   "cell_type": "code",
   "execution_count": 155,
   "id": "8f92e2cc",
   "metadata": {},
   "outputs": [
    {
     "name": "stdout",
     "output_type": "stream",
     "text": [
      "<class 'pandas.core.frame.DataFrame'>\n",
      "RangeIndex: 562439 entries, 0 to 562438\n",
      "Data columns (total 36 columns):\n",
      " #   Column                                       Non-Null Count   Dtype  \n",
      "---  ------                                       --------------   -----  \n",
      " 0   accident_index                               562439 non-null  object \n",
      " 1   accident_year                                562439 non-null  int64  \n",
      " 2   accident_reference                           562439 non-null  object \n",
      " 3   location_easting_osgr                        562306 non-null  float64\n",
      " 4   location_northing_osgr                       562306 non-null  float64\n",
      " 5   longitude                                    562296 non-null  float64\n",
      " 6   latitude                                     562296 non-null  float64\n",
      " 7   police_force                                 562439 non-null  int64  \n",
      " 8   accident_severity                            562439 non-null  int64  \n",
      " 9   number_of_vehicles                           562439 non-null  int64  \n",
      " 10  number_of_casualties                         562439 non-null  int64  \n",
      " 11  date                                         562439 non-null  object \n",
      " 12  day_of_week                                  562439 non-null  int64  \n",
      " 13  time                                         562439 non-null  object \n",
      " 14  local_authority_district                     562439 non-null  int64  \n",
      " 15  local_authority_ons_district                 562439 non-null  object \n",
      " 16  local_authority_highway                      562439 non-null  object \n",
      " 17  first_road_class                             562439 non-null  int64  \n",
      " 18  first_road_number                            562439 non-null  int64  \n",
      " 19  road_type                                    562439 non-null  int64  \n",
      " 20  speed_limit                                  562439 non-null  int64  \n",
      " 21  junction_detail                              562439 non-null  int64  \n",
      " 22  junction_control                             562439 non-null  int64  \n",
      " 23  second_road_class                            562439 non-null  int64  \n",
      " 24  second_road_number                           562439 non-null  int64  \n",
      " 25  pedestrian_crossing_human_control            562439 non-null  int64  \n",
      " 26  pedestrian_crossing_physical_facilities      562439 non-null  int64  \n",
      " 27  light_conditions                             562439 non-null  int64  \n",
      " 28  weather_conditions                           562439 non-null  int64  \n",
      " 29  road_surface_conditions                      562439 non-null  int64  \n",
      " 30  special_conditions_at_site                   562439 non-null  int64  \n",
      " 31  carriageway_hazards                          562439 non-null  int64  \n",
      " 32  urban_or_rural_area                          562439 non-null  int64  \n",
      " 33  did_police_officer_attend_scene_of_accident  562439 non-null  int64  \n",
      " 34  trunk_road_flag                              562439 non-null  int64  \n",
      " 35  lsoa_of_accident_location                    562439 non-null  object \n",
      "dtypes: float64(4), int64(25), object(7)\n",
      "memory usage: 154.5+ MB\n"
     ]
    }
   ],
   "source": [
    "df_accident.info()"
   ]
  },
  {
   "cell_type": "code",
   "execution_count": 156,
   "id": "96003aff",
   "metadata": {
    "scrolled": false
   },
   "outputs": [
    {
     "data": {
      "text/plain": "       accident_year  location_easting_osgr  location_northing_osgr  \\\ncount  562439.000000          562306.000000            5.623060e+05   \nmean     2018.841359          453092.344542            2.791175e+05   \nstd         1.413635           94486.230396            1.504202e+05   \nmin      2017.000000           64084.000000            1.023500e+04   \n25%      2018.000000          389237.000000            1.754600e+05   \n50%      2019.000000          459554.500000            2.191370e+05   \n75%      2020.000000          529434.750000            3.860650e+05   \nmax      2021.000000          655391.000000            1.209512e+06   \n\n           longitude       latitude   police_force  accident_severity  \\\ncount  562296.000000  562296.000000  562439.000000      562439.000000   \nmean       -1.239441      52.399317      27.988936           2.780095   \nstd         1.384135       1.355003      24.704728           0.446690   \nmin        -7.525273      49.912362       1.000000           1.000000   \n25%        -2.161819      51.464992       4.000000           3.000000   \n50%        -1.121003      51.858047      22.000000           3.000000   \n75%        -0.134684      53.368628      45.000000           3.000000   \nmax         1.759641      60.763722      99.000000           3.000000   \n\n       number_of_vehicles  number_of_casualties    day_of_week  ...  \\\ncount       562439.000000         562439.000000  562439.000000  ...   \nmean             1.841149              1.295324       4.113657  ...   \nstd              0.704657              0.734110       1.929746  ...   \nmin              1.000000              1.000000       1.000000  ...   \n25%              1.000000              1.000000       2.000000  ...   \n50%              2.000000              1.000000       4.000000  ...   \n75%              2.000000              1.000000       6.000000  ...   \nmax             24.000000             59.000000       7.000000  ...   \n\n       pedestrian_crossing_human_control  \\\ncount                      562439.000000   \nmean                            0.280077   \nstd                             1.510484   \nmin                            -1.000000   \n25%                             0.000000   \n50%                             0.000000   \n75%                             0.000000   \nmax                             9.000000   \n\n       pedestrian_crossing_physical_facilities  light_conditions  \\\ncount                            562439.000000     562439.000000   \nmean                                  1.111763          2.025557   \nstd                                   2.349190          1.717887   \nmin                                  -1.000000         -1.000000   \n25%                                   0.000000          1.000000   \n50%                                   0.000000          1.000000   \n75%                                   0.000000          4.000000   \nmax                                   9.000000          7.000000   \n\n       weather_conditions  road_surface_conditions  \\\ncount       562439.000000            562439.000000   \nmean             1.650188                 1.378297   \nstd              1.824607                 0.955681   \nmin             -1.000000                -1.000000   \n25%              1.000000                 1.000000   \n50%              1.000000                 1.000000   \n75%              1.000000                 2.000000   \nmax              9.000000                 9.000000   \n\n       special_conditions_at_site  carriageway_hazards  urban_or_rural_area  \\\ncount               562439.000000        562439.000000        562439.000000   \nmean                     0.223919             0.175210             1.324426   \nstd                      1.260399             1.138232             0.468643   \nmin                     -1.000000            -1.000000            -1.000000   \n25%                      0.000000             0.000000             1.000000   \n50%                      0.000000             0.000000             1.000000   \n75%                      0.000000             0.000000             2.000000   \nmax                      9.000000             9.000000             3.000000   \n\n       did_police_officer_attend_scene_of_accident  trunk_road_flag  \ncount                                562439.000000    562439.000000  \nmean                                      1.355663         1.687587  \nstd                                       0.592823         0.841438  \nmin                                      -1.000000        -1.000000  \n25%                                       1.000000         2.000000  \n50%                                       1.000000         2.000000  \n75%                                       2.000000         2.000000  \nmax                                       3.000000         2.000000  \n\n[8 rows x 29 columns]",
      "text/html": "<div>\n<style scoped>\n    .dataframe tbody tr th:only-of-type {\n        vertical-align: middle;\n    }\n\n    .dataframe tbody tr th {\n        vertical-align: top;\n    }\n\n    .dataframe thead th {\n        text-align: right;\n    }\n</style>\n<table border=\"1\" class=\"dataframe\">\n  <thead>\n    <tr style=\"text-align: right;\">\n      <th></th>\n      <th>accident_year</th>\n      <th>location_easting_osgr</th>\n      <th>location_northing_osgr</th>\n      <th>longitude</th>\n      <th>latitude</th>\n      <th>police_force</th>\n      <th>accident_severity</th>\n      <th>number_of_vehicles</th>\n      <th>number_of_casualties</th>\n      <th>day_of_week</th>\n      <th>...</th>\n      <th>pedestrian_crossing_human_control</th>\n      <th>pedestrian_crossing_physical_facilities</th>\n      <th>light_conditions</th>\n      <th>weather_conditions</th>\n      <th>road_surface_conditions</th>\n      <th>special_conditions_at_site</th>\n      <th>carriageway_hazards</th>\n      <th>urban_or_rural_area</th>\n      <th>did_police_officer_attend_scene_of_accident</th>\n      <th>trunk_road_flag</th>\n    </tr>\n  </thead>\n  <tbody>\n    <tr>\n      <th>count</th>\n      <td>562439.000000</td>\n      <td>562306.000000</td>\n      <td>5.623060e+05</td>\n      <td>562296.000000</td>\n      <td>562296.000000</td>\n      <td>562439.000000</td>\n      <td>562439.000000</td>\n      <td>562439.000000</td>\n      <td>562439.000000</td>\n      <td>562439.000000</td>\n      <td>...</td>\n      <td>562439.000000</td>\n      <td>562439.000000</td>\n      <td>562439.000000</td>\n      <td>562439.000000</td>\n      <td>562439.000000</td>\n      <td>562439.000000</td>\n      <td>562439.000000</td>\n      <td>562439.000000</td>\n      <td>562439.000000</td>\n      <td>562439.000000</td>\n    </tr>\n    <tr>\n      <th>mean</th>\n      <td>2018.841359</td>\n      <td>453092.344542</td>\n      <td>2.791175e+05</td>\n      <td>-1.239441</td>\n      <td>52.399317</td>\n      <td>27.988936</td>\n      <td>2.780095</td>\n      <td>1.841149</td>\n      <td>1.295324</td>\n      <td>4.113657</td>\n      <td>...</td>\n      <td>0.280077</td>\n      <td>1.111763</td>\n      <td>2.025557</td>\n      <td>1.650188</td>\n      <td>1.378297</td>\n      <td>0.223919</td>\n      <td>0.175210</td>\n      <td>1.324426</td>\n      <td>1.355663</td>\n      <td>1.687587</td>\n    </tr>\n    <tr>\n      <th>std</th>\n      <td>1.413635</td>\n      <td>94486.230396</td>\n      <td>1.504202e+05</td>\n      <td>1.384135</td>\n      <td>1.355003</td>\n      <td>24.704728</td>\n      <td>0.446690</td>\n      <td>0.704657</td>\n      <td>0.734110</td>\n      <td>1.929746</td>\n      <td>...</td>\n      <td>1.510484</td>\n      <td>2.349190</td>\n      <td>1.717887</td>\n      <td>1.824607</td>\n      <td>0.955681</td>\n      <td>1.260399</td>\n      <td>1.138232</td>\n      <td>0.468643</td>\n      <td>0.592823</td>\n      <td>0.841438</td>\n    </tr>\n    <tr>\n      <th>min</th>\n      <td>2017.000000</td>\n      <td>64084.000000</td>\n      <td>1.023500e+04</td>\n      <td>-7.525273</td>\n      <td>49.912362</td>\n      <td>1.000000</td>\n      <td>1.000000</td>\n      <td>1.000000</td>\n      <td>1.000000</td>\n      <td>1.000000</td>\n      <td>...</td>\n      <td>-1.000000</td>\n      <td>-1.000000</td>\n      <td>-1.000000</td>\n      <td>-1.000000</td>\n      <td>-1.000000</td>\n      <td>-1.000000</td>\n      <td>-1.000000</td>\n      <td>-1.000000</td>\n      <td>-1.000000</td>\n      <td>-1.000000</td>\n    </tr>\n    <tr>\n      <th>25%</th>\n      <td>2018.000000</td>\n      <td>389237.000000</td>\n      <td>1.754600e+05</td>\n      <td>-2.161819</td>\n      <td>51.464992</td>\n      <td>4.000000</td>\n      <td>3.000000</td>\n      <td>1.000000</td>\n      <td>1.000000</td>\n      <td>2.000000</td>\n      <td>...</td>\n      <td>0.000000</td>\n      <td>0.000000</td>\n      <td>1.000000</td>\n      <td>1.000000</td>\n      <td>1.000000</td>\n      <td>0.000000</td>\n      <td>0.000000</td>\n      <td>1.000000</td>\n      <td>1.000000</td>\n      <td>2.000000</td>\n    </tr>\n    <tr>\n      <th>50%</th>\n      <td>2019.000000</td>\n      <td>459554.500000</td>\n      <td>2.191370e+05</td>\n      <td>-1.121003</td>\n      <td>51.858047</td>\n      <td>22.000000</td>\n      <td>3.000000</td>\n      <td>2.000000</td>\n      <td>1.000000</td>\n      <td>4.000000</td>\n      <td>...</td>\n      <td>0.000000</td>\n      <td>0.000000</td>\n      <td>1.000000</td>\n      <td>1.000000</td>\n      <td>1.000000</td>\n      <td>0.000000</td>\n      <td>0.000000</td>\n      <td>1.000000</td>\n      <td>1.000000</td>\n      <td>2.000000</td>\n    </tr>\n    <tr>\n      <th>75%</th>\n      <td>2020.000000</td>\n      <td>529434.750000</td>\n      <td>3.860650e+05</td>\n      <td>-0.134684</td>\n      <td>53.368628</td>\n      <td>45.000000</td>\n      <td>3.000000</td>\n      <td>2.000000</td>\n      <td>1.000000</td>\n      <td>6.000000</td>\n      <td>...</td>\n      <td>0.000000</td>\n      <td>0.000000</td>\n      <td>4.000000</td>\n      <td>1.000000</td>\n      <td>2.000000</td>\n      <td>0.000000</td>\n      <td>0.000000</td>\n      <td>2.000000</td>\n      <td>2.000000</td>\n      <td>2.000000</td>\n    </tr>\n    <tr>\n      <th>max</th>\n      <td>2021.000000</td>\n      <td>655391.000000</td>\n      <td>1.209512e+06</td>\n      <td>1.759641</td>\n      <td>60.763722</td>\n      <td>99.000000</td>\n      <td>3.000000</td>\n      <td>24.000000</td>\n      <td>59.000000</td>\n      <td>7.000000</td>\n      <td>...</td>\n      <td>9.000000</td>\n      <td>9.000000</td>\n      <td>7.000000</td>\n      <td>9.000000</td>\n      <td>9.000000</td>\n      <td>9.000000</td>\n      <td>9.000000</td>\n      <td>3.000000</td>\n      <td>3.000000</td>\n      <td>2.000000</td>\n    </tr>\n  </tbody>\n</table>\n<p>8 rows × 29 columns</p>\n</div>"
     },
     "execution_count": 156,
     "metadata": {},
     "output_type": "execute_result"
    }
   ],
   "source": [
    "df_accident.describe()"
   ]
  },
  {
   "cell_type": "code",
   "execution_count": 157,
   "id": "1247805f",
   "metadata": {},
   "outputs": [
    {
     "data": {
      "text/plain": "      accident_index  accident_year accident_reference  location_easting_osgr  \\\n55371  2017200141443           2017          200141443               412319.0   \n55372  2017200142150           2017          200142150               403593.0   \n55376  2017200143906           2017          200143906               405762.0   \n55377  2017200144448           2017          200144448               411986.0   \n55380  2017200147014           2017          200147014               407379.0   \n\n       location_northing_osgr  longitude   latitude  police_force  \\\n55371                295720.0  -1.819712  52.559195            20   \n55372                284702.0  -1.948542  52.460269            20   \n55376                286453.0  -1.916591  52.475992            20   \n55377                286522.0  -1.824954  52.476512            20   \n55380                281580.0  -1.892889  52.432165            20   \n\n       accident_severity  number_of_vehicles  ...  \\\n55371                  3                   1  ...   \n55372                  3                   3  ...   \n55376                  2                   1  ...   \n55377                  2                   1  ...   \n55380                  2                   1  ...   \n\n       pedestrian_crossing_physical_facilities light_conditions  \\\n55371                                        1                4   \n55372                                        0                1   \n55376                                        0                4   \n55377                                        0                1   \n55380                                        0                4   \n\n       weather_conditions road_surface_conditions  special_conditions_at_site  \\\n55371                   8                       2                           0   \n55372                   8                       4                           0   \n55376                   9                       1                           0   \n55377                   1                       1                           0   \n55380                   2                       2                           0   \n\n      carriageway_hazards urban_or_rural_area  \\\n55371                   0                   1   \n55372                   0                   1   \n55376                   0                   1   \n55377                   0                   1   \n55380                   0                   1   \n\n       did_police_officer_attend_scene_of_accident  trunk_road_flag  \\\n55371                                            2                2   \n55372                                            2                2   \n55376                                            1                2   \n55377                                            1                2   \n55380                                            1                2   \n\n       lsoa_of_accident_location  \n55371                  E01009451  \n55372                  E01009068  \n55376                  E01033639  \n55377                  E01009341  \n55380                  E01009175  \n\n[5 rows x 36 columns]",
      "text/html": "<div>\n<style scoped>\n    .dataframe tbody tr th:only-of-type {\n        vertical-align: middle;\n    }\n\n    .dataframe tbody tr th {\n        vertical-align: top;\n    }\n\n    .dataframe thead th {\n        text-align: right;\n    }\n</style>\n<table border=\"1\" class=\"dataframe\">\n  <thead>\n    <tr style=\"text-align: right;\">\n      <th></th>\n      <th>accident_index</th>\n      <th>accident_year</th>\n      <th>accident_reference</th>\n      <th>location_easting_osgr</th>\n      <th>location_northing_osgr</th>\n      <th>longitude</th>\n      <th>latitude</th>\n      <th>police_force</th>\n      <th>accident_severity</th>\n      <th>number_of_vehicles</th>\n      <th>...</th>\n      <th>pedestrian_crossing_physical_facilities</th>\n      <th>light_conditions</th>\n      <th>weather_conditions</th>\n      <th>road_surface_conditions</th>\n      <th>special_conditions_at_site</th>\n      <th>carriageway_hazards</th>\n      <th>urban_or_rural_area</th>\n      <th>did_police_officer_attend_scene_of_accident</th>\n      <th>trunk_road_flag</th>\n      <th>lsoa_of_accident_location</th>\n    </tr>\n  </thead>\n  <tbody>\n    <tr>\n      <th>55371</th>\n      <td>2017200141443</td>\n      <td>2017</td>\n      <td>200141443</td>\n      <td>412319.0</td>\n      <td>295720.0</td>\n      <td>-1.819712</td>\n      <td>52.559195</td>\n      <td>20</td>\n      <td>3</td>\n      <td>1</td>\n      <td>...</td>\n      <td>1</td>\n      <td>4</td>\n      <td>8</td>\n      <td>2</td>\n      <td>0</td>\n      <td>0</td>\n      <td>1</td>\n      <td>2</td>\n      <td>2</td>\n      <td>E01009451</td>\n    </tr>\n    <tr>\n      <th>55372</th>\n      <td>2017200142150</td>\n      <td>2017</td>\n      <td>200142150</td>\n      <td>403593.0</td>\n      <td>284702.0</td>\n      <td>-1.948542</td>\n      <td>52.460269</td>\n      <td>20</td>\n      <td>3</td>\n      <td>3</td>\n      <td>...</td>\n      <td>0</td>\n      <td>1</td>\n      <td>8</td>\n      <td>4</td>\n      <td>0</td>\n      <td>0</td>\n      <td>1</td>\n      <td>2</td>\n      <td>2</td>\n      <td>E01009068</td>\n    </tr>\n    <tr>\n      <th>55376</th>\n      <td>2017200143906</td>\n      <td>2017</td>\n      <td>200143906</td>\n      <td>405762.0</td>\n      <td>286453.0</td>\n      <td>-1.916591</td>\n      <td>52.475992</td>\n      <td>20</td>\n      <td>2</td>\n      <td>1</td>\n      <td>...</td>\n      <td>0</td>\n      <td>4</td>\n      <td>9</td>\n      <td>1</td>\n      <td>0</td>\n      <td>0</td>\n      <td>1</td>\n      <td>1</td>\n      <td>2</td>\n      <td>E01033639</td>\n    </tr>\n    <tr>\n      <th>55377</th>\n      <td>2017200144448</td>\n      <td>2017</td>\n      <td>200144448</td>\n      <td>411986.0</td>\n      <td>286522.0</td>\n      <td>-1.824954</td>\n      <td>52.476512</td>\n      <td>20</td>\n      <td>2</td>\n      <td>1</td>\n      <td>...</td>\n      <td>0</td>\n      <td>1</td>\n      <td>1</td>\n      <td>1</td>\n      <td>0</td>\n      <td>0</td>\n      <td>1</td>\n      <td>1</td>\n      <td>2</td>\n      <td>E01009341</td>\n    </tr>\n    <tr>\n      <th>55380</th>\n      <td>2017200147014</td>\n      <td>2017</td>\n      <td>200147014</td>\n      <td>407379.0</td>\n      <td>281580.0</td>\n      <td>-1.892889</td>\n      <td>52.432165</td>\n      <td>20</td>\n      <td>2</td>\n      <td>1</td>\n      <td>...</td>\n      <td>0</td>\n      <td>4</td>\n      <td>2</td>\n      <td>2</td>\n      <td>0</td>\n      <td>0</td>\n      <td>1</td>\n      <td>1</td>\n      <td>2</td>\n      <td>E01009175</td>\n    </tr>\n  </tbody>\n</table>\n<p>5 rows × 36 columns</p>\n</div>"
     },
     "execution_count": 157,
     "metadata": {},
     "output_type": "execute_result"
    }
   ],
   "source": [
    "# Limiting Data to Birmingham Only\n",
    "df_accident = df_accident[(df_accident.local_authority_district == 300)]\n",
    "df_accident.head()"
   ]
  },
  {
   "cell_type": "code",
   "execution_count": 158,
   "outputs": [
    {
     "data": {
      "text/plain": "       accident_severity  number_of_vehicles  number_of_casualties  \\\n55371                  3                   1                     1   \n55372                  3                   3                     2   \n55376                  2                   1                     1   \n55377                  2                   1                     1   \n55380                  2                   1                     1   \n\n             date  day_of_week   time  first_road_class  first_road_number  \\\n55371  01/01/2017            1  16:46                 6                  0   \n55372  02/01/2017            2  09:30                 6                  0   \n55376  01/01/2017            1  03:17                 6                  0   \n55377  05/01/2017            5  08:33                 6                  0   \n55380  16/01/2017            2  17:20                 6                  0   \n\n       road_type  speed_limit  ...  pedestrian_crossing_human_control  \\\n55371          6           30  ...                                  0   \n55372          6           30  ...                                  0   \n55376          2           30  ...                                  0   \n55377          6           30  ...                                  0   \n55380          6           30  ...                                  0   \n\n       pedestrian_crossing_physical_facilities  light_conditions  \\\n55371                                        1                 4   \n55372                                        0                 1   \n55376                                        0                 4   \n55377                                        0                 1   \n55380                                        0                 4   \n\n       weather_conditions  road_surface_conditions  \\\n55371                   8                        2   \n55372                   8                        4   \n55376                   9                        1   \n55377                   1                        1   \n55380                   2                        2   \n\n       special_conditions_at_site  carriageway_hazards  urban_or_rural_area  \\\n55371                           0                    0                    1   \n55372                           0                    0                    1   \n55376                           0                    0                    1   \n55377                           0                    0                    1   \n55380                           0                    0                    1   \n\n       trunk_road_flag  lsoa_of_accident_location  \n55371                2                  E01009451  \n55372                2                  E01009068  \n55376                2                  E01033639  \n55377                2                  E01009341  \n55380                2                  E01009175  \n\n[5 rows x 24 columns]",
      "text/html": "<div>\n<style scoped>\n    .dataframe tbody tr th:only-of-type {\n        vertical-align: middle;\n    }\n\n    .dataframe tbody tr th {\n        vertical-align: top;\n    }\n\n    .dataframe thead th {\n        text-align: right;\n    }\n</style>\n<table border=\"1\" class=\"dataframe\">\n  <thead>\n    <tr style=\"text-align: right;\">\n      <th></th>\n      <th>accident_severity</th>\n      <th>number_of_vehicles</th>\n      <th>number_of_casualties</th>\n      <th>date</th>\n      <th>day_of_week</th>\n      <th>time</th>\n      <th>first_road_class</th>\n      <th>first_road_number</th>\n      <th>road_type</th>\n      <th>speed_limit</th>\n      <th>...</th>\n      <th>pedestrian_crossing_human_control</th>\n      <th>pedestrian_crossing_physical_facilities</th>\n      <th>light_conditions</th>\n      <th>weather_conditions</th>\n      <th>road_surface_conditions</th>\n      <th>special_conditions_at_site</th>\n      <th>carriageway_hazards</th>\n      <th>urban_or_rural_area</th>\n      <th>trunk_road_flag</th>\n      <th>lsoa_of_accident_location</th>\n    </tr>\n  </thead>\n  <tbody>\n    <tr>\n      <th>55371</th>\n      <td>3</td>\n      <td>1</td>\n      <td>1</td>\n      <td>01/01/2017</td>\n      <td>1</td>\n      <td>16:46</td>\n      <td>6</td>\n      <td>0</td>\n      <td>6</td>\n      <td>30</td>\n      <td>...</td>\n      <td>0</td>\n      <td>1</td>\n      <td>4</td>\n      <td>8</td>\n      <td>2</td>\n      <td>0</td>\n      <td>0</td>\n      <td>1</td>\n      <td>2</td>\n      <td>E01009451</td>\n    </tr>\n    <tr>\n      <th>55372</th>\n      <td>3</td>\n      <td>3</td>\n      <td>2</td>\n      <td>02/01/2017</td>\n      <td>2</td>\n      <td>09:30</td>\n      <td>6</td>\n      <td>0</td>\n      <td>6</td>\n      <td>30</td>\n      <td>...</td>\n      <td>0</td>\n      <td>0</td>\n      <td>1</td>\n      <td>8</td>\n      <td>4</td>\n      <td>0</td>\n      <td>0</td>\n      <td>1</td>\n      <td>2</td>\n      <td>E01009068</td>\n    </tr>\n    <tr>\n      <th>55376</th>\n      <td>2</td>\n      <td>1</td>\n      <td>1</td>\n      <td>01/01/2017</td>\n      <td>1</td>\n      <td>03:17</td>\n      <td>6</td>\n      <td>0</td>\n      <td>2</td>\n      <td>30</td>\n      <td>...</td>\n      <td>0</td>\n      <td>0</td>\n      <td>4</td>\n      <td>9</td>\n      <td>1</td>\n      <td>0</td>\n      <td>0</td>\n      <td>1</td>\n      <td>2</td>\n      <td>E01033639</td>\n    </tr>\n    <tr>\n      <th>55377</th>\n      <td>2</td>\n      <td>1</td>\n      <td>1</td>\n      <td>05/01/2017</td>\n      <td>5</td>\n      <td>08:33</td>\n      <td>6</td>\n      <td>0</td>\n      <td>6</td>\n      <td>30</td>\n      <td>...</td>\n      <td>0</td>\n      <td>0</td>\n      <td>1</td>\n      <td>1</td>\n      <td>1</td>\n      <td>0</td>\n      <td>0</td>\n      <td>1</td>\n      <td>2</td>\n      <td>E01009341</td>\n    </tr>\n    <tr>\n      <th>55380</th>\n      <td>2</td>\n      <td>1</td>\n      <td>1</td>\n      <td>16/01/2017</td>\n      <td>2</td>\n      <td>17:20</td>\n      <td>6</td>\n      <td>0</td>\n      <td>6</td>\n      <td>30</td>\n      <td>...</td>\n      <td>0</td>\n      <td>0</td>\n      <td>4</td>\n      <td>2</td>\n      <td>2</td>\n      <td>0</td>\n      <td>0</td>\n      <td>1</td>\n      <td>2</td>\n      <td>E01009175</td>\n    </tr>\n  </tbody>\n</table>\n<p>5 rows × 24 columns</p>\n</div>"
     },
     "execution_count": 158,
     "metadata": {},
     "output_type": "execute_result"
    }
   ],
   "source": [
    "# Deleting Unused Columns\n",
    "df_accident.drop([\"accident_index\", \"accident_reference\", \"accident_year\", \"police_force\", \"did_police_officer_attend_scene_of_accident\", \"location_easting_osgr\", \"location_northing_osgr\", \"local_authority_district\", \"local_authority_highway\", \"local_authority_ons_district\", \"longitude\", \"latitude\"], axis=1, inplace=True)\n",
    "df_accident.head()"
   ],
   "metadata": {
    "collapsed": false
   }
  },
  {
   "cell_type": "code",
   "execution_count": 159,
   "outputs": [
    {
     "data": {
      "text/plain": "       accident_severity  number_of_vehicles  number_of_casualties  \\\n55371                  3                   1                     1   \n55372                  3                   3                     2   \n55376                  2                   1                     1   \n55377                  2                   1                     1   \n55380                  2                   1                     1   \n...                  ...                 ...                   ...   \n56423                  3                   1                     1   \n56424                  3                   2                     1   \n56427                  3                   3                     1   \n56428                  3                   2                     1   \n56435                  3                   3                     1   \n\n       day_of_week   time  first_road_class  first_road_number  road_type  \\\n55371            1  16:46                 6                  0          6   \n55372            2  09:30                 6                  0          6   \n55376            1  03:17                 6                  0          2   \n55377            5  08:33                 6                  0          6   \n55380            2  17:20                 6                  0          6   \n...            ...    ...               ...                ...        ...   \n56423            2  16:20                 4               4124          6   \n56424            7  17:20                 6                  0          6   \n56427            7  12:59                 3                456          3   \n56428            3  23:35                 6                  0          6   \n56435            1  12:30                 6                  0          6   \n\n       speed_limit  junction_detail  ...  \\\n55371           30                0  ...   \n55372           30                0  ...   \n55376           30                3  ...   \n55377           30                0  ...   \n55380           30                3  ...   \n...            ...              ...  ...   \n56423           30                9  ...   \n56424           30                0  ...   \n56427           30                0  ...   \n56428           30                3  ...   \n56435           30                0  ...   \n\n       pedestrian_crossing_physical_facilities  light_conditions  \\\n55371                                        1                 4   \n55372                                        0                 1   \n55376                                        0                 4   \n55377                                        0                 1   \n55380                                        0                 4   \n...                                        ...               ...   \n56423                                        4                 1   \n56424                                        0                 1   \n56427                                        0                 1   \n56428                                        0                 4   \n56435                                        0                 1   \n\n       weather_conditions  road_surface_conditions  \\\n55371                   8                        2   \n55372                   8                        4   \n55376                   9                        1   \n55377                   1                        1   \n55380                   2                        2   \n...                   ...                      ...   \n56423                   1                        1   \n56424                   1                        1   \n56427                   9                        1   \n56428                   2                        2   \n56435                   1                        1   \n\n       special_conditions_at_site  carriageway_hazards  urban_or_rural_area  \\\n55371                           0                    0                    1   \n55372                           0                    0                    1   \n55376                           0                    0                    1   \n55377                           0                    0                    1   \n55380                           0                    0                    1   \n...                           ...                  ...                  ...   \n56423                           0                    0                    1   \n56424                           0                    0                    1   \n56427                           0                    0                    2   \n56428                           0                    0                    1   \n56435                           0                    0                    1   \n\n       trunk_road_flag  lsoa_of_accident_location  month  \n55371                2                  E01009451     01  \n55372                2                  E01009068     01  \n55376                2                  E01033639     01  \n55377                2                  E01009341     01  \n55380                2                  E01009175     01  \n...                ...                        ...    ...  \n56423                2                  E01009068     03  \n56424                2                  E01009329     03  \n56427                2                  E01009250     03  \n56428                2                  E01009334     03  \n56435                2                  E01009119     03  \n\n[500 rows x 24 columns]",
      "text/html": "<div>\n<style scoped>\n    .dataframe tbody tr th:only-of-type {\n        vertical-align: middle;\n    }\n\n    .dataframe tbody tr th {\n        vertical-align: top;\n    }\n\n    .dataframe thead th {\n        text-align: right;\n    }\n</style>\n<table border=\"1\" class=\"dataframe\">\n  <thead>\n    <tr style=\"text-align: right;\">\n      <th></th>\n      <th>accident_severity</th>\n      <th>number_of_vehicles</th>\n      <th>number_of_casualties</th>\n      <th>day_of_week</th>\n      <th>time</th>\n      <th>first_road_class</th>\n      <th>first_road_number</th>\n      <th>road_type</th>\n      <th>speed_limit</th>\n      <th>junction_detail</th>\n      <th>...</th>\n      <th>pedestrian_crossing_physical_facilities</th>\n      <th>light_conditions</th>\n      <th>weather_conditions</th>\n      <th>road_surface_conditions</th>\n      <th>special_conditions_at_site</th>\n      <th>carriageway_hazards</th>\n      <th>urban_or_rural_area</th>\n      <th>trunk_road_flag</th>\n      <th>lsoa_of_accident_location</th>\n      <th>month</th>\n    </tr>\n  </thead>\n  <tbody>\n    <tr>\n      <th>55371</th>\n      <td>3</td>\n      <td>1</td>\n      <td>1</td>\n      <td>1</td>\n      <td>16:46</td>\n      <td>6</td>\n      <td>0</td>\n      <td>6</td>\n      <td>30</td>\n      <td>0</td>\n      <td>...</td>\n      <td>1</td>\n      <td>4</td>\n      <td>8</td>\n      <td>2</td>\n      <td>0</td>\n      <td>0</td>\n      <td>1</td>\n      <td>2</td>\n      <td>E01009451</td>\n      <td>01</td>\n    </tr>\n    <tr>\n      <th>55372</th>\n      <td>3</td>\n      <td>3</td>\n      <td>2</td>\n      <td>2</td>\n      <td>09:30</td>\n      <td>6</td>\n      <td>0</td>\n      <td>6</td>\n      <td>30</td>\n      <td>0</td>\n      <td>...</td>\n      <td>0</td>\n      <td>1</td>\n      <td>8</td>\n      <td>4</td>\n      <td>0</td>\n      <td>0</td>\n      <td>1</td>\n      <td>2</td>\n      <td>E01009068</td>\n      <td>01</td>\n    </tr>\n    <tr>\n      <th>55376</th>\n      <td>2</td>\n      <td>1</td>\n      <td>1</td>\n      <td>1</td>\n      <td>03:17</td>\n      <td>6</td>\n      <td>0</td>\n      <td>2</td>\n      <td>30</td>\n      <td>3</td>\n      <td>...</td>\n      <td>0</td>\n      <td>4</td>\n      <td>9</td>\n      <td>1</td>\n      <td>0</td>\n      <td>0</td>\n      <td>1</td>\n      <td>2</td>\n      <td>E01033639</td>\n      <td>01</td>\n    </tr>\n    <tr>\n      <th>55377</th>\n      <td>2</td>\n      <td>1</td>\n      <td>1</td>\n      <td>5</td>\n      <td>08:33</td>\n      <td>6</td>\n      <td>0</td>\n      <td>6</td>\n      <td>30</td>\n      <td>0</td>\n      <td>...</td>\n      <td>0</td>\n      <td>1</td>\n      <td>1</td>\n      <td>1</td>\n      <td>0</td>\n      <td>0</td>\n      <td>1</td>\n      <td>2</td>\n      <td>E01009341</td>\n      <td>01</td>\n    </tr>\n    <tr>\n      <th>55380</th>\n      <td>2</td>\n      <td>1</td>\n      <td>1</td>\n      <td>2</td>\n      <td>17:20</td>\n      <td>6</td>\n      <td>0</td>\n      <td>6</td>\n      <td>30</td>\n      <td>3</td>\n      <td>...</td>\n      <td>0</td>\n      <td>4</td>\n      <td>2</td>\n      <td>2</td>\n      <td>0</td>\n      <td>0</td>\n      <td>1</td>\n      <td>2</td>\n      <td>E01009175</td>\n      <td>01</td>\n    </tr>\n    <tr>\n      <th>...</th>\n      <td>...</td>\n      <td>...</td>\n      <td>...</td>\n      <td>...</td>\n      <td>...</td>\n      <td>...</td>\n      <td>...</td>\n      <td>...</td>\n      <td>...</td>\n      <td>...</td>\n      <td>...</td>\n      <td>...</td>\n      <td>...</td>\n      <td>...</td>\n      <td>...</td>\n      <td>...</td>\n      <td>...</td>\n      <td>...</td>\n      <td>...</td>\n      <td>...</td>\n      <td>...</td>\n    </tr>\n    <tr>\n      <th>56423</th>\n      <td>3</td>\n      <td>1</td>\n      <td>1</td>\n      <td>2</td>\n      <td>16:20</td>\n      <td>4</td>\n      <td>4124</td>\n      <td>6</td>\n      <td>30</td>\n      <td>9</td>\n      <td>...</td>\n      <td>4</td>\n      <td>1</td>\n      <td>1</td>\n      <td>1</td>\n      <td>0</td>\n      <td>0</td>\n      <td>1</td>\n      <td>2</td>\n      <td>E01009068</td>\n      <td>03</td>\n    </tr>\n    <tr>\n      <th>56424</th>\n      <td>3</td>\n      <td>2</td>\n      <td>1</td>\n      <td>7</td>\n      <td>17:20</td>\n      <td>6</td>\n      <td>0</td>\n      <td>6</td>\n      <td>30</td>\n      <td>0</td>\n      <td>...</td>\n      <td>0</td>\n      <td>1</td>\n      <td>1</td>\n      <td>1</td>\n      <td>0</td>\n      <td>0</td>\n      <td>1</td>\n      <td>2</td>\n      <td>E01009329</td>\n      <td>03</td>\n    </tr>\n    <tr>\n      <th>56427</th>\n      <td>3</td>\n      <td>3</td>\n      <td>1</td>\n      <td>7</td>\n      <td>12:59</td>\n      <td>3</td>\n      <td>456</td>\n      <td>3</td>\n      <td>30</td>\n      <td>0</td>\n      <td>...</td>\n      <td>0</td>\n      <td>1</td>\n      <td>9</td>\n      <td>1</td>\n      <td>0</td>\n      <td>0</td>\n      <td>2</td>\n      <td>2</td>\n      <td>E01009250</td>\n      <td>03</td>\n    </tr>\n    <tr>\n      <th>56428</th>\n      <td>3</td>\n      <td>2</td>\n      <td>1</td>\n      <td>3</td>\n      <td>23:35</td>\n      <td>6</td>\n      <td>0</td>\n      <td>6</td>\n      <td>30</td>\n      <td>3</td>\n      <td>...</td>\n      <td>0</td>\n      <td>4</td>\n      <td>2</td>\n      <td>2</td>\n      <td>0</td>\n      <td>0</td>\n      <td>1</td>\n      <td>2</td>\n      <td>E01009334</td>\n      <td>03</td>\n    </tr>\n    <tr>\n      <th>56435</th>\n      <td>3</td>\n      <td>3</td>\n      <td>1</td>\n      <td>1</td>\n      <td>12:30</td>\n      <td>6</td>\n      <td>0</td>\n      <td>6</td>\n      <td>30</td>\n      <td>0</td>\n      <td>...</td>\n      <td>0</td>\n      <td>1</td>\n      <td>1</td>\n      <td>1</td>\n      <td>0</td>\n      <td>0</td>\n      <td>1</td>\n      <td>2</td>\n      <td>E01009119</td>\n      <td>03</td>\n    </tr>\n  </tbody>\n</table>\n<p>500 rows × 24 columns</p>\n</div>"
     },
     "execution_count": 159,
     "metadata": {},
     "output_type": "execute_result"
    }
   ],
   "source": [
    "# Extracting Month From Date Column\n",
    "df_accident[[\"day\", \"month\", \"year\"]] = df_accident[\"date\"].apply(lambda x: pd.Series(str(x).split(\"/\")))\n",
    "df_accident.drop([\"day\", \"year\", \"date\"], axis=1, inplace=True)\n",
    "df_accident.head()"
   ],
   "metadata": {
    "collapsed": false
   }
  },
  {
   "cell_type": "code",
   "execution_count": 159,
   "outputs": [],
   "source": [],
   "metadata": {
    "collapsed": false
   }
  }
 ],
 "metadata": {
  "kernelspec": {
   "display_name": "Python 3 (ipykernel)",
   "language": "python",
   "name": "python3"
  },
  "language_info": {
   "codemirror_mode": {
    "name": "ipython",
    "version": 3
   },
   "file_extension": ".py",
   "mimetype": "text/x-python",
   "name": "python",
   "nbconvert_exporter": "python",
   "pygments_lexer": "ipython3",
   "version": "3.9.13"
  }
 },
 "nbformat": 4,
 "nbformat_minor": 5
}
