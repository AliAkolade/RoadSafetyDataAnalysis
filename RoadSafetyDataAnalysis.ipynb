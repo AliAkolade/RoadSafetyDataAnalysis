{
 "cells": [
  {
   "cell_type": "code",
   "execution_count": 25,
   "outputs": [],
   "source": [
    "# Import Packages\n",
    "import pandas as pd"
   ],
   "metadata": {
    "collapsed": false
   }
  },
  {
   "cell_type": "code",
   "execution_count": 26,
   "id": "182a12b6",
   "metadata": {},
   "outputs": [],
   "source": [
    "#Load Initial Dataset\n",
    "df_accident=pd.read_csv('dft-road-casualty-statistics-accident-last-5-years.csv', low_memory=False)"
   ]
  },
  {
   "cell_type": "code",
   "execution_count": 27,
   "outputs": [
    {
     "data": {
      "text/plain": "  accident_index  accident_year accident_reference  location_easting_osgr  \\\n0  2017010001708           2017          010001708               532920.0   \n1  2017010009342           2017          010009342               526790.0   \n2  2017010009344           2017          010009344               535200.0   \n3  2017010009348           2017          010009348               534340.0   \n4  2017010009350           2017          010009350               533680.0   \n\n   location_northing_osgr  longitude   latitude  police_force  \\\n0                196330.0  -0.080107  51.650061             1   \n1                181970.0  -0.173845  51.522425             1   \n2                181260.0  -0.052969  51.514096             1   \n3                193560.0  -0.060658  51.624832             1   \n4                187820.0  -0.072372  51.573408             1   \n\n   accident_severity  number_of_vehicles  ...  \\\n0                  1                   2  ...   \n1                  3                   2  ...   \n2                  3                   3  ...   \n3                  3                   2  ...   \n4                  2                   1  ...   \n\n   pedestrian_crossing_physical_facilities light_conditions  \\\n0                                        0                4   \n1                                        0                4   \n2                                        0                4   \n3                                        4                4   \n4                                        5                4   \n\n   weather_conditions road_surface_conditions  special_conditions_at_site  \\\n0                   1                       1                           0   \n1                   1                       2                           0   \n2                   1                       1                           0   \n3                   2                       2                           0   \n4                   1                       2                           0   \n\n  carriageway_hazards urban_or_rural_area  \\\n0                   0                   1   \n1                   0                   1   \n2                   0                   1   \n3                   0                   1   \n4                   0                   1   \n\n   did_police_officer_attend_scene_of_accident  trunk_road_flag  \\\n0                                            1                2   \n1                                            1                2   \n2                                            1                2   \n3                                            1                2   \n4                                            1                2   \n\n   lsoa_of_accident_location  \n0                  E01001450  \n1                  E01004702  \n2                  E01004298  \n3                  E01001429  \n4                  E01001808  \n\n[5 rows x 36 columns]",
      "text/html": "<div>\n<style scoped>\n    .dataframe tbody tr th:only-of-type {\n        vertical-align: middle;\n    }\n\n    .dataframe tbody tr th {\n        vertical-align: top;\n    }\n\n    .dataframe thead th {\n        text-align: right;\n    }\n</style>\n<table border=\"1\" class=\"dataframe\">\n  <thead>\n    <tr style=\"text-align: right;\">\n      <th></th>\n      <th>accident_index</th>\n      <th>accident_year</th>\n      <th>accident_reference</th>\n      <th>location_easting_osgr</th>\n      <th>location_northing_osgr</th>\n      <th>longitude</th>\n      <th>latitude</th>\n      <th>police_force</th>\n      <th>accident_severity</th>\n      <th>number_of_vehicles</th>\n      <th>...</th>\n      <th>pedestrian_crossing_physical_facilities</th>\n      <th>light_conditions</th>\n      <th>weather_conditions</th>\n      <th>road_surface_conditions</th>\n      <th>special_conditions_at_site</th>\n      <th>carriageway_hazards</th>\n      <th>urban_or_rural_area</th>\n      <th>did_police_officer_attend_scene_of_accident</th>\n      <th>trunk_road_flag</th>\n      <th>lsoa_of_accident_location</th>\n    </tr>\n  </thead>\n  <tbody>\n    <tr>\n      <th>0</th>\n      <td>2017010001708</td>\n      <td>2017</td>\n      <td>010001708</td>\n      <td>532920.0</td>\n      <td>196330.0</td>\n      <td>-0.080107</td>\n      <td>51.650061</td>\n      <td>1</td>\n      <td>1</td>\n      <td>2</td>\n      <td>...</td>\n      <td>0</td>\n      <td>4</td>\n      <td>1</td>\n      <td>1</td>\n      <td>0</td>\n      <td>0</td>\n      <td>1</td>\n      <td>1</td>\n      <td>2</td>\n      <td>E01001450</td>\n    </tr>\n    <tr>\n      <th>1</th>\n      <td>2017010009342</td>\n      <td>2017</td>\n      <td>010009342</td>\n      <td>526790.0</td>\n      <td>181970.0</td>\n      <td>-0.173845</td>\n      <td>51.522425</td>\n      <td>1</td>\n      <td>3</td>\n      <td>2</td>\n      <td>...</td>\n      <td>0</td>\n      <td>4</td>\n      <td>1</td>\n      <td>2</td>\n      <td>0</td>\n      <td>0</td>\n      <td>1</td>\n      <td>1</td>\n      <td>2</td>\n      <td>E01004702</td>\n    </tr>\n    <tr>\n      <th>2</th>\n      <td>2017010009344</td>\n      <td>2017</td>\n      <td>010009344</td>\n      <td>535200.0</td>\n      <td>181260.0</td>\n      <td>-0.052969</td>\n      <td>51.514096</td>\n      <td>1</td>\n      <td>3</td>\n      <td>3</td>\n      <td>...</td>\n      <td>0</td>\n      <td>4</td>\n      <td>1</td>\n      <td>1</td>\n      <td>0</td>\n      <td>0</td>\n      <td>1</td>\n      <td>1</td>\n      <td>2</td>\n      <td>E01004298</td>\n    </tr>\n    <tr>\n      <th>3</th>\n      <td>2017010009348</td>\n      <td>2017</td>\n      <td>010009348</td>\n      <td>534340.0</td>\n      <td>193560.0</td>\n      <td>-0.060658</td>\n      <td>51.624832</td>\n      <td>1</td>\n      <td>3</td>\n      <td>2</td>\n      <td>...</td>\n      <td>4</td>\n      <td>4</td>\n      <td>2</td>\n      <td>2</td>\n      <td>0</td>\n      <td>0</td>\n      <td>1</td>\n      <td>1</td>\n      <td>2</td>\n      <td>E01001429</td>\n    </tr>\n    <tr>\n      <th>4</th>\n      <td>2017010009350</td>\n      <td>2017</td>\n      <td>010009350</td>\n      <td>533680.0</td>\n      <td>187820.0</td>\n      <td>-0.072372</td>\n      <td>51.573408</td>\n      <td>1</td>\n      <td>2</td>\n      <td>1</td>\n      <td>...</td>\n      <td>5</td>\n      <td>4</td>\n      <td>1</td>\n      <td>2</td>\n      <td>0</td>\n      <td>0</td>\n      <td>1</td>\n      <td>1</td>\n      <td>2</td>\n      <td>E01001808</td>\n    </tr>\n  </tbody>\n</table>\n<p>5 rows × 36 columns</p>\n</div>"
     },
     "execution_count": 27,
     "metadata": {},
     "output_type": "execute_result"
    }
   ],
   "source": [
    "#Display First 5 Rows\n",
    "df_accident.head()"
   ],
   "metadata": {
    "collapsed": false
   }
  },
  {
   "cell_type": "code",
   "execution_count": 28,
   "id": "9faf4793",
   "metadata": {},
   "outputs": [
    {
     "data": {
      "text/plain": "(562439, 36)"
     },
     "execution_count": 28,
     "metadata": {},
     "output_type": "execute_result"
    }
   ],
   "source": [
    "df_accident.shape"
   ]
  },
  {
   "cell_type": "code",
   "execution_count": 29,
   "id": "8f92e2cc",
   "metadata": {},
   "outputs": [
    {
     "name": "stdout",
     "output_type": "stream",
     "text": [
      "<class 'pandas.core.frame.DataFrame'>\n",
      "RangeIndex: 562439 entries, 0 to 562438\n",
      "Data columns (total 36 columns):\n",
      " #   Column                                       Non-Null Count   Dtype  \n",
      "---  ------                                       --------------   -----  \n",
      " 0   accident_index                               562439 non-null  object \n",
      " 1   accident_year                                562439 non-null  int64  \n",
      " 2   accident_reference                           562439 non-null  object \n",
      " 3   location_easting_osgr                        562306 non-null  float64\n",
      " 4   location_northing_osgr                       562306 non-null  float64\n",
      " 5   longitude                                    562296 non-null  float64\n",
      " 6   latitude                                     562296 non-null  float64\n",
      " 7   police_force                                 562439 non-null  int64  \n",
      " 8   accident_severity                            562439 non-null  int64  \n",
      " 9   number_of_vehicles                           562439 non-null  int64  \n",
      " 10  number_of_casualties                         562439 non-null  int64  \n",
      " 11  date                                         562439 non-null  object \n",
      " 12  day_of_week                                  562439 non-null  int64  \n",
      " 13  time                                         562439 non-null  object \n",
      " 14  local_authority_district                     562439 non-null  int64  \n",
      " 15  local_authority_ons_district                 562439 non-null  object \n",
      " 16  local_authority_highway                      562439 non-null  object \n",
      " 17  first_road_class                             562439 non-null  int64  \n",
      " 18  first_road_number                            562439 non-null  int64  \n",
      " 19  road_type                                    562439 non-null  int64  \n",
      " 20  speed_limit                                  562439 non-null  int64  \n",
      " 21  junction_detail                              562439 non-null  int64  \n",
      " 22  junction_control                             562439 non-null  int64  \n",
      " 23  second_road_class                            562439 non-null  int64  \n",
      " 24  second_road_number                           562439 non-null  int64  \n",
      " 25  pedestrian_crossing_human_control            562439 non-null  int64  \n",
      " 26  pedestrian_crossing_physical_facilities      562439 non-null  int64  \n",
      " 27  light_conditions                             562439 non-null  int64  \n",
      " 28  weather_conditions                           562439 non-null  int64  \n",
      " 29  road_surface_conditions                      562439 non-null  int64  \n",
      " 30  special_conditions_at_site                   562439 non-null  int64  \n",
      " 31  carriageway_hazards                          562439 non-null  int64  \n",
      " 32  urban_or_rural_area                          562439 non-null  int64  \n",
      " 33  did_police_officer_attend_scene_of_accident  562439 non-null  int64  \n",
      " 34  trunk_road_flag                              562439 non-null  int64  \n",
      " 35  lsoa_of_accident_location                    562439 non-null  object \n",
      "dtypes: float64(4), int64(25), object(7)\n",
      "memory usage: 154.5+ MB\n"
     ]
    }
   ],
   "source": [
    "df_accident.info()"
   ]
  },
  {
   "cell_type": "code",
   "execution_count": 30,
   "id": "96003aff",
   "metadata": {
    "scrolled": false
   },
   "outputs": [
    {
     "data": {
      "text/plain": "       accident_year  location_easting_osgr  location_northing_osgr  \\\ncount  562439.000000          562306.000000            5.623060e+05   \nmean     2018.841359          453092.344542            2.791175e+05   \nstd         1.413635           94486.230396            1.504202e+05   \nmin      2017.000000           64084.000000            1.023500e+04   \n25%      2018.000000          389237.000000            1.754600e+05   \n50%      2019.000000          459554.500000            2.191370e+05   \n75%      2020.000000          529434.750000            3.860650e+05   \nmax      2021.000000          655391.000000            1.209512e+06   \n\n           longitude       latitude   police_force  accident_severity  \\\ncount  562296.000000  562296.000000  562439.000000      562439.000000   \nmean       -1.239441      52.399317      27.988936           2.780095   \nstd         1.384135       1.355003      24.704728           0.446690   \nmin        -7.525273      49.912362       1.000000           1.000000   \n25%        -2.161819      51.464992       4.000000           3.000000   \n50%        -1.121003      51.858047      22.000000           3.000000   \n75%        -0.134684      53.368628      45.000000           3.000000   \nmax         1.759641      60.763722      99.000000           3.000000   \n\n       number_of_vehicles  number_of_casualties    day_of_week  ...  \\\ncount       562439.000000         562439.000000  562439.000000  ...   \nmean             1.841149              1.295324       4.113657  ...   \nstd              0.704657              0.734110       1.929746  ...   \nmin              1.000000              1.000000       1.000000  ...   \n25%              1.000000              1.000000       2.000000  ...   \n50%              2.000000              1.000000       4.000000  ...   \n75%              2.000000              1.000000       6.000000  ...   \nmax             24.000000             59.000000       7.000000  ...   \n\n       pedestrian_crossing_human_control  \\\ncount                      562439.000000   \nmean                            0.280077   \nstd                             1.510484   \nmin                            -1.000000   \n25%                             0.000000   \n50%                             0.000000   \n75%                             0.000000   \nmax                             9.000000   \n\n       pedestrian_crossing_physical_facilities  light_conditions  \\\ncount                            562439.000000     562439.000000   \nmean                                  1.111763          2.025557   \nstd                                   2.349190          1.717887   \nmin                                  -1.000000         -1.000000   \n25%                                   0.000000          1.000000   \n50%                                   0.000000          1.000000   \n75%                                   0.000000          4.000000   \nmax                                   9.000000          7.000000   \n\n       weather_conditions  road_surface_conditions  \\\ncount       562439.000000            562439.000000   \nmean             1.650188                 1.378297   \nstd              1.824607                 0.955681   \nmin             -1.000000                -1.000000   \n25%              1.000000                 1.000000   \n50%              1.000000                 1.000000   \n75%              1.000000                 2.000000   \nmax              9.000000                 9.000000   \n\n       special_conditions_at_site  carriageway_hazards  urban_or_rural_area  \\\ncount               562439.000000        562439.000000        562439.000000   \nmean                     0.223919             0.175210             1.324426   \nstd                      1.260399             1.138232             0.468643   \nmin                     -1.000000            -1.000000            -1.000000   \n25%                      0.000000             0.000000             1.000000   \n50%                      0.000000             0.000000             1.000000   \n75%                      0.000000             0.000000             2.000000   \nmax                      9.000000             9.000000             3.000000   \n\n       did_police_officer_attend_scene_of_accident  trunk_road_flag  \ncount                                562439.000000    562439.000000  \nmean                                      1.355663         1.687587  \nstd                                       0.592823         0.841438  \nmin                                      -1.000000        -1.000000  \n25%                                       1.000000         2.000000  \n50%                                       1.000000         2.000000  \n75%                                       2.000000         2.000000  \nmax                                       3.000000         2.000000  \n\n[8 rows x 29 columns]",
      "text/html": "<div>\n<style scoped>\n    .dataframe tbody tr th:only-of-type {\n        vertical-align: middle;\n    }\n\n    .dataframe tbody tr th {\n        vertical-align: top;\n    }\n\n    .dataframe thead th {\n        text-align: right;\n    }\n</style>\n<table border=\"1\" class=\"dataframe\">\n  <thead>\n    <tr style=\"text-align: right;\">\n      <th></th>\n      <th>accident_year</th>\n      <th>location_easting_osgr</th>\n      <th>location_northing_osgr</th>\n      <th>longitude</th>\n      <th>latitude</th>\n      <th>police_force</th>\n      <th>accident_severity</th>\n      <th>number_of_vehicles</th>\n      <th>number_of_casualties</th>\n      <th>day_of_week</th>\n      <th>...</th>\n      <th>pedestrian_crossing_human_control</th>\n      <th>pedestrian_crossing_physical_facilities</th>\n      <th>light_conditions</th>\n      <th>weather_conditions</th>\n      <th>road_surface_conditions</th>\n      <th>special_conditions_at_site</th>\n      <th>carriageway_hazards</th>\n      <th>urban_or_rural_area</th>\n      <th>did_police_officer_attend_scene_of_accident</th>\n      <th>trunk_road_flag</th>\n    </tr>\n  </thead>\n  <tbody>\n    <tr>\n      <th>count</th>\n      <td>562439.000000</td>\n      <td>562306.000000</td>\n      <td>5.623060e+05</td>\n      <td>562296.000000</td>\n      <td>562296.000000</td>\n      <td>562439.000000</td>\n      <td>562439.000000</td>\n      <td>562439.000000</td>\n      <td>562439.000000</td>\n      <td>562439.000000</td>\n      <td>...</td>\n      <td>562439.000000</td>\n      <td>562439.000000</td>\n      <td>562439.000000</td>\n      <td>562439.000000</td>\n      <td>562439.000000</td>\n      <td>562439.000000</td>\n      <td>562439.000000</td>\n      <td>562439.000000</td>\n      <td>562439.000000</td>\n      <td>562439.000000</td>\n    </tr>\n    <tr>\n      <th>mean</th>\n      <td>2018.841359</td>\n      <td>453092.344542</td>\n      <td>2.791175e+05</td>\n      <td>-1.239441</td>\n      <td>52.399317</td>\n      <td>27.988936</td>\n      <td>2.780095</td>\n      <td>1.841149</td>\n      <td>1.295324</td>\n      <td>4.113657</td>\n      <td>...</td>\n      <td>0.280077</td>\n      <td>1.111763</td>\n      <td>2.025557</td>\n      <td>1.650188</td>\n      <td>1.378297</td>\n      <td>0.223919</td>\n      <td>0.175210</td>\n      <td>1.324426</td>\n      <td>1.355663</td>\n      <td>1.687587</td>\n    </tr>\n    <tr>\n      <th>std</th>\n      <td>1.413635</td>\n      <td>94486.230396</td>\n      <td>1.504202e+05</td>\n      <td>1.384135</td>\n      <td>1.355003</td>\n      <td>24.704728</td>\n      <td>0.446690</td>\n      <td>0.704657</td>\n      <td>0.734110</td>\n      <td>1.929746</td>\n      <td>...</td>\n      <td>1.510484</td>\n      <td>2.349190</td>\n      <td>1.717887</td>\n      <td>1.824607</td>\n      <td>0.955681</td>\n      <td>1.260399</td>\n      <td>1.138232</td>\n      <td>0.468643</td>\n      <td>0.592823</td>\n      <td>0.841438</td>\n    </tr>\n    <tr>\n      <th>min</th>\n      <td>2017.000000</td>\n      <td>64084.000000</td>\n      <td>1.023500e+04</td>\n      <td>-7.525273</td>\n      <td>49.912362</td>\n      <td>1.000000</td>\n      <td>1.000000</td>\n      <td>1.000000</td>\n      <td>1.000000</td>\n      <td>1.000000</td>\n      <td>...</td>\n      <td>-1.000000</td>\n      <td>-1.000000</td>\n      <td>-1.000000</td>\n      <td>-1.000000</td>\n      <td>-1.000000</td>\n      <td>-1.000000</td>\n      <td>-1.000000</td>\n      <td>-1.000000</td>\n      <td>-1.000000</td>\n      <td>-1.000000</td>\n    </tr>\n    <tr>\n      <th>25%</th>\n      <td>2018.000000</td>\n      <td>389237.000000</td>\n      <td>1.754600e+05</td>\n      <td>-2.161819</td>\n      <td>51.464992</td>\n      <td>4.000000</td>\n      <td>3.000000</td>\n      <td>1.000000</td>\n      <td>1.000000</td>\n      <td>2.000000</td>\n      <td>...</td>\n      <td>0.000000</td>\n      <td>0.000000</td>\n      <td>1.000000</td>\n      <td>1.000000</td>\n      <td>1.000000</td>\n      <td>0.000000</td>\n      <td>0.000000</td>\n      <td>1.000000</td>\n      <td>1.000000</td>\n      <td>2.000000</td>\n    </tr>\n    <tr>\n      <th>50%</th>\n      <td>2019.000000</td>\n      <td>459554.500000</td>\n      <td>2.191370e+05</td>\n      <td>-1.121003</td>\n      <td>51.858047</td>\n      <td>22.000000</td>\n      <td>3.000000</td>\n      <td>2.000000</td>\n      <td>1.000000</td>\n      <td>4.000000</td>\n      <td>...</td>\n      <td>0.000000</td>\n      <td>0.000000</td>\n      <td>1.000000</td>\n      <td>1.000000</td>\n      <td>1.000000</td>\n      <td>0.000000</td>\n      <td>0.000000</td>\n      <td>1.000000</td>\n      <td>1.000000</td>\n      <td>2.000000</td>\n    </tr>\n    <tr>\n      <th>75%</th>\n      <td>2020.000000</td>\n      <td>529434.750000</td>\n      <td>3.860650e+05</td>\n      <td>-0.134684</td>\n      <td>53.368628</td>\n      <td>45.000000</td>\n      <td>3.000000</td>\n      <td>2.000000</td>\n      <td>1.000000</td>\n      <td>6.000000</td>\n      <td>...</td>\n      <td>0.000000</td>\n      <td>0.000000</td>\n      <td>4.000000</td>\n      <td>1.000000</td>\n      <td>2.000000</td>\n      <td>0.000000</td>\n      <td>0.000000</td>\n      <td>2.000000</td>\n      <td>2.000000</td>\n      <td>2.000000</td>\n    </tr>\n    <tr>\n      <th>max</th>\n      <td>2021.000000</td>\n      <td>655391.000000</td>\n      <td>1.209512e+06</td>\n      <td>1.759641</td>\n      <td>60.763722</td>\n      <td>99.000000</td>\n      <td>3.000000</td>\n      <td>24.000000</td>\n      <td>59.000000</td>\n      <td>7.000000</td>\n      <td>...</td>\n      <td>9.000000</td>\n      <td>9.000000</td>\n      <td>7.000000</td>\n      <td>9.000000</td>\n      <td>9.000000</td>\n      <td>9.000000</td>\n      <td>9.000000</td>\n      <td>3.000000</td>\n      <td>3.000000</td>\n      <td>2.000000</td>\n    </tr>\n  </tbody>\n</table>\n<p>8 rows × 29 columns</p>\n</div>"
     },
     "execution_count": 30,
     "metadata": {},
     "output_type": "execute_result"
    }
   ],
   "source": [
    "df_accident.describe()"
   ]
  },
  {
   "cell_type": "code",
   "execution_count": 31,
   "id": "1247805f",
   "metadata": {},
   "outputs": [
    {
     "data": {
      "text/plain": "  accident_index  accident_year accident_reference  location_easting_osgr  \\\n0  2017010001708           2017          010001708               532920.0   \n1  2017010009342           2017          010009342               526790.0   \n2  2017010009344           2017          010009344               535200.0   \n3  2017010009348           2017          010009348               534340.0   \n4  2017010009350           2017          010009350               533680.0   \n\n   location_northing_osgr  longitude   latitude  police_force  \\\n0                196330.0  -0.080107  51.650061             1   \n1                181970.0  -0.173845  51.522425             1   \n2                181260.0  -0.052969  51.514096             1   \n3                193560.0  -0.060658  51.624832             1   \n4                187820.0  -0.072372  51.573408             1   \n\n   accident_severity  number_of_vehicles  ...  \\\n0                  1                   2  ...   \n1                  3                   2  ...   \n2                  3                   3  ...   \n3                  3                   2  ...   \n4                  2                   1  ...   \n\n   pedestrian_crossing_physical_facilities light_conditions  \\\n0                                        0                4   \n1                                        0                4   \n2                                        0                4   \n3                                        4                4   \n4                                        5                4   \n\n   weather_conditions road_surface_conditions  special_conditions_at_site  \\\n0                   1                       1                           0   \n1                   1                       2                           0   \n2                   1                       1                           0   \n3                   2                       2                           0   \n4                   1                       2                           0   \n\n  carriageway_hazards urban_or_rural_area  \\\n0                   0                   1   \n1                   0                   1   \n2                   0                   1   \n3                   0                   1   \n4                   0                   1   \n\n   did_police_officer_attend_scene_of_accident  trunk_road_flag  \\\n0                                            1                2   \n1                                            1                2   \n2                                            1                2   \n3                                            1                2   \n4                                            1                2   \n\n   lsoa_of_accident_location  \n0                  E01001450  \n1                  E01004702  \n2                  E01004298  \n3                  E01001429  \n4                  E01001808  \n\n[5 rows x 36 columns]",
      "text/html": "<div>\n<style scoped>\n    .dataframe tbody tr th:only-of-type {\n        vertical-align: middle;\n    }\n\n    .dataframe tbody tr th {\n        vertical-align: top;\n    }\n\n    .dataframe thead th {\n        text-align: right;\n    }\n</style>\n<table border=\"1\" class=\"dataframe\">\n  <thead>\n    <tr style=\"text-align: right;\">\n      <th></th>\n      <th>accident_index</th>\n      <th>accident_year</th>\n      <th>accident_reference</th>\n      <th>location_easting_osgr</th>\n      <th>location_northing_osgr</th>\n      <th>longitude</th>\n      <th>latitude</th>\n      <th>police_force</th>\n      <th>accident_severity</th>\n      <th>number_of_vehicles</th>\n      <th>...</th>\n      <th>pedestrian_crossing_physical_facilities</th>\n      <th>light_conditions</th>\n      <th>weather_conditions</th>\n      <th>road_surface_conditions</th>\n      <th>special_conditions_at_site</th>\n      <th>carriageway_hazards</th>\n      <th>urban_or_rural_area</th>\n      <th>did_police_officer_attend_scene_of_accident</th>\n      <th>trunk_road_flag</th>\n      <th>lsoa_of_accident_location</th>\n    </tr>\n  </thead>\n  <tbody>\n    <tr>\n      <th>0</th>\n      <td>2017010001708</td>\n      <td>2017</td>\n      <td>010001708</td>\n      <td>532920.0</td>\n      <td>196330.0</td>\n      <td>-0.080107</td>\n      <td>51.650061</td>\n      <td>1</td>\n      <td>1</td>\n      <td>2</td>\n      <td>...</td>\n      <td>0</td>\n      <td>4</td>\n      <td>1</td>\n      <td>1</td>\n      <td>0</td>\n      <td>0</td>\n      <td>1</td>\n      <td>1</td>\n      <td>2</td>\n      <td>E01001450</td>\n    </tr>\n    <tr>\n      <th>1</th>\n      <td>2017010009342</td>\n      <td>2017</td>\n      <td>010009342</td>\n      <td>526790.0</td>\n      <td>181970.0</td>\n      <td>-0.173845</td>\n      <td>51.522425</td>\n      <td>1</td>\n      <td>3</td>\n      <td>2</td>\n      <td>...</td>\n      <td>0</td>\n      <td>4</td>\n      <td>1</td>\n      <td>2</td>\n      <td>0</td>\n      <td>0</td>\n      <td>1</td>\n      <td>1</td>\n      <td>2</td>\n      <td>E01004702</td>\n    </tr>\n    <tr>\n      <th>2</th>\n      <td>2017010009344</td>\n      <td>2017</td>\n      <td>010009344</td>\n      <td>535200.0</td>\n      <td>181260.0</td>\n      <td>-0.052969</td>\n      <td>51.514096</td>\n      <td>1</td>\n      <td>3</td>\n      <td>3</td>\n      <td>...</td>\n      <td>0</td>\n      <td>4</td>\n      <td>1</td>\n      <td>1</td>\n      <td>0</td>\n      <td>0</td>\n      <td>1</td>\n      <td>1</td>\n      <td>2</td>\n      <td>E01004298</td>\n    </tr>\n    <tr>\n      <th>3</th>\n      <td>2017010009348</td>\n      <td>2017</td>\n      <td>010009348</td>\n      <td>534340.0</td>\n      <td>193560.0</td>\n      <td>-0.060658</td>\n      <td>51.624832</td>\n      <td>1</td>\n      <td>3</td>\n      <td>2</td>\n      <td>...</td>\n      <td>4</td>\n      <td>4</td>\n      <td>2</td>\n      <td>2</td>\n      <td>0</td>\n      <td>0</td>\n      <td>1</td>\n      <td>1</td>\n      <td>2</td>\n      <td>E01001429</td>\n    </tr>\n    <tr>\n      <th>4</th>\n      <td>2017010009350</td>\n      <td>2017</td>\n      <td>010009350</td>\n      <td>533680.0</td>\n      <td>187820.0</td>\n      <td>-0.072372</td>\n      <td>51.573408</td>\n      <td>1</td>\n      <td>2</td>\n      <td>1</td>\n      <td>...</td>\n      <td>5</td>\n      <td>4</td>\n      <td>1</td>\n      <td>2</td>\n      <td>0</td>\n      <td>0</td>\n      <td>1</td>\n      <td>1</td>\n      <td>2</td>\n      <td>E01001808</td>\n    </tr>\n  </tbody>\n</table>\n<p>5 rows × 36 columns</p>\n</div>"
     },
     "execution_count": 31,
     "metadata": {},
     "output_type": "execute_result"
    }
   ],
   "source": [
    "# Limiting Data to Birmingham On\n",
    "df_accident[(df_accident.local_authority_district == 300)]\n",
    "df_accident.head()"
   ]
  },
  {
   "cell_type": "code",
   "execution_count": 32,
   "outputs": [
    {
     "data": {
      "text/plain": "   location_easting_osgr  location_northing_osgr  longitude   latitude  \\\n0               532920.0                196330.0  -0.080107  51.650061   \n1               526790.0                181970.0  -0.173845  51.522425   \n2               535200.0                181260.0  -0.052969  51.514096   \n3               534340.0                193560.0  -0.060658  51.624832   \n4               533680.0                187820.0  -0.072372  51.573408   \n\n   accident_severity  number_of_vehicles  number_of_casualties        date  \\\n0                  1                   2                     3  05/08/2017   \n1                  3                   2                     1  01/01/2017   \n2                  3                   3                     1  01/01/2017   \n3                  3                   2                     1  01/01/2017   \n4                  2                   1                     1  01/01/2017   \n\n   day_of_week   time  ...  pedestrian_crossing_human_control  \\\n0            7  03:12  ...                                  0   \n1            1  01:30  ...                                  0   \n2            1  00:30  ...                                  0   \n3            1  01:11  ...                                  0   \n4            1  01:42  ...                                  0   \n\n  pedestrian_crossing_physical_facilities light_conditions  \\\n0                                       0                4   \n1                                       0                4   \n2                                       0                4   \n3                                       4                4   \n4                                       5                4   \n\n   weather_conditions  road_surface_conditions  special_conditions_at_site  \\\n0                   1                        1                           0   \n1                   1                        2                           0   \n2                   1                        1                           0   \n3                   2                        2                           0   \n4                   1                        2                           0   \n\n   carriageway_hazards  urban_or_rural_area  trunk_road_flag  \\\n0                    0                    1                2   \n1                    0                    1                2   \n2                    0                    1                2   \n3                    0                    1                2   \n4                    0                    1                2   \n\n   lsoa_of_accident_location  \n0                  E01001450  \n1                  E01004702  \n2                  E01004298  \n3                  E01001429  \n4                  E01001808  \n\n[5 rows x 31 columns]",
      "text/html": "<div>\n<style scoped>\n    .dataframe tbody tr th:only-of-type {\n        vertical-align: middle;\n    }\n\n    .dataframe tbody tr th {\n        vertical-align: top;\n    }\n\n    .dataframe thead th {\n        text-align: right;\n    }\n</style>\n<table border=\"1\" class=\"dataframe\">\n  <thead>\n    <tr style=\"text-align: right;\">\n      <th></th>\n      <th>location_easting_osgr</th>\n      <th>location_northing_osgr</th>\n      <th>longitude</th>\n      <th>latitude</th>\n      <th>accident_severity</th>\n      <th>number_of_vehicles</th>\n      <th>number_of_casualties</th>\n      <th>date</th>\n      <th>day_of_week</th>\n      <th>time</th>\n      <th>...</th>\n      <th>pedestrian_crossing_human_control</th>\n      <th>pedestrian_crossing_physical_facilities</th>\n      <th>light_conditions</th>\n      <th>weather_conditions</th>\n      <th>road_surface_conditions</th>\n      <th>special_conditions_at_site</th>\n      <th>carriageway_hazards</th>\n      <th>urban_or_rural_area</th>\n      <th>trunk_road_flag</th>\n      <th>lsoa_of_accident_location</th>\n    </tr>\n  </thead>\n  <tbody>\n    <tr>\n      <th>0</th>\n      <td>532920.0</td>\n      <td>196330.0</td>\n      <td>-0.080107</td>\n      <td>51.650061</td>\n      <td>1</td>\n      <td>2</td>\n      <td>3</td>\n      <td>05/08/2017</td>\n      <td>7</td>\n      <td>03:12</td>\n      <td>...</td>\n      <td>0</td>\n      <td>0</td>\n      <td>4</td>\n      <td>1</td>\n      <td>1</td>\n      <td>0</td>\n      <td>0</td>\n      <td>1</td>\n      <td>2</td>\n      <td>E01001450</td>\n    </tr>\n    <tr>\n      <th>1</th>\n      <td>526790.0</td>\n      <td>181970.0</td>\n      <td>-0.173845</td>\n      <td>51.522425</td>\n      <td>3</td>\n      <td>2</td>\n      <td>1</td>\n      <td>01/01/2017</td>\n      <td>1</td>\n      <td>01:30</td>\n      <td>...</td>\n      <td>0</td>\n      <td>0</td>\n      <td>4</td>\n      <td>1</td>\n      <td>2</td>\n      <td>0</td>\n      <td>0</td>\n      <td>1</td>\n      <td>2</td>\n      <td>E01004702</td>\n    </tr>\n    <tr>\n      <th>2</th>\n      <td>535200.0</td>\n      <td>181260.0</td>\n      <td>-0.052969</td>\n      <td>51.514096</td>\n      <td>3</td>\n      <td>3</td>\n      <td>1</td>\n      <td>01/01/2017</td>\n      <td>1</td>\n      <td>00:30</td>\n      <td>...</td>\n      <td>0</td>\n      <td>0</td>\n      <td>4</td>\n      <td>1</td>\n      <td>1</td>\n      <td>0</td>\n      <td>0</td>\n      <td>1</td>\n      <td>2</td>\n      <td>E01004298</td>\n    </tr>\n    <tr>\n      <th>3</th>\n      <td>534340.0</td>\n      <td>193560.0</td>\n      <td>-0.060658</td>\n      <td>51.624832</td>\n      <td>3</td>\n      <td>2</td>\n      <td>1</td>\n      <td>01/01/2017</td>\n      <td>1</td>\n      <td>01:11</td>\n      <td>...</td>\n      <td>0</td>\n      <td>4</td>\n      <td>4</td>\n      <td>2</td>\n      <td>2</td>\n      <td>0</td>\n      <td>0</td>\n      <td>1</td>\n      <td>2</td>\n      <td>E01001429</td>\n    </tr>\n    <tr>\n      <th>4</th>\n      <td>533680.0</td>\n      <td>187820.0</td>\n      <td>-0.072372</td>\n      <td>51.573408</td>\n      <td>2</td>\n      <td>1</td>\n      <td>1</td>\n      <td>01/01/2017</td>\n      <td>1</td>\n      <td>01:42</td>\n      <td>...</td>\n      <td>0</td>\n      <td>5</td>\n      <td>4</td>\n      <td>1</td>\n      <td>2</td>\n      <td>0</td>\n      <td>0</td>\n      <td>1</td>\n      <td>2</td>\n      <td>E01001808</td>\n    </tr>\n  </tbody>\n</table>\n<p>5 rows × 31 columns</p>\n</div>"
     },
     "execution_count": 32,
     "metadata": {},
     "output_type": "execute_result"
    }
   ],
   "source": [
    "# Deleting Unused Columns\n",
    "df_accident.drop([\"accident_index\", \"accident_reference\", \"accident_year\", \"police_force\", \"did_police_officer_attend_scene_of_accident\"], axis=1, inplace=True)\n",
    "df_accident.head()"
   ],
   "metadata": {
    "collapsed": false
   }
  },
  {
   "cell_type": "code",
   "execution_count": 33,
   "outputs": [
    {
     "data": {
      "text/plain": "   location_easting_osgr  location_northing_osgr  longitude   latitude  \\\n0               532920.0                196330.0  -0.080107  51.650061   \n1               526790.0                181970.0  -0.173845  51.522425   \n2               535200.0                181260.0  -0.052969  51.514096   \n3               534340.0                193560.0  -0.060658  51.624832   \n4               533680.0                187820.0  -0.072372  51.573408   \n\n   accident_severity  number_of_vehicles  number_of_casualties        date  \\\n0                  1                   2                     3  05/08/2017   \n1                  3                   2                     1  01/01/2017   \n2                  3                   3                     1  01/01/2017   \n3                  3                   2                     1  01/01/2017   \n4                  2                   1                     1  01/01/2017   \n\n   day_of_week   time  ...  weather_conditions road_surface_conditions  \\\n0            7  03:12  ...                   1                       1   \n1            1  01:30  ...                   1                       2   \n2            1  00:30  ...                   1                       1   \n3            1  01:11  ...                   2                       2   \n4            1  01:42  ...                   1                       2   \n\n  special_conditions_at_site  carriageway_hazards  urban_or_rural_area  \\\n0                          0                    0                    1   \n1                          0                    0                    1   \n2                          0                    0                    1   \n3                          0                    0                    1   \n4                          0                    0                    1   \n\n   trunk_road_flag  lsoa_of_accident_location  day  month  year  \n0                2                  E01001450   05     08  2017  \n1                2                  E01004702   01     01  2017  \n2                2                  E01004298   01     01  2017  \n3                2                  E01001429   01     01  2017  \n4                2                  E01001808   01     01  2017  \n\n[5 rows x 34 columns]",
      "text/html": "<div>\n<style scoped>\n    .dataframe tbody tr th:only-of-type {\n        vertical-align: middle;\n    }\n\n    .dataframe tbody tr th {\n        vertical-align: top;\n    }\n\n    .dataframe thead th {\n        text-align: right;\n    }\n</style>\n<table border=\"1\" class=\"dataframe\">\n  <thead>\n    <tr style=\"text-align: right;\">\n      <th></th>\n      <th>location_easting_osgr</th>\n      <th>location_northing_osgr</th>\n      <th>longitude</th>\n      <th>latitude</th>\n      <th>accident_severity</th>\n      <th>number_of_vehicles</th>\n      <th>number_of_casualties</th>\n      <th>date</th>\n      <th>day_of_week</th>\n      <th>time</th>\n      <th>...</th>\n      <th>weather_conditions</th>\n      <th>road_surface_conditions</th>\n      <th>special_conditions_at_site</th>\n      <th>carriageway_hazards</th>\n      <th>urban_or_rural_area</th>\n      <th>trunk_road_flag</th>\n      <th>lsoa_of_accident_location</th>\n      <th>day</th>\n      <th>month</th>\n      <th>year</th>\n    </tr>\n  </thead>\n  <tbody>\n    <tr>\n      <th>0</th>\n      <td>532920.0</td>\n      <td>196330.0</td>\n      <td>-0.080107</td>\n      <td>51.650061</td>\n      <td>1</td>\n      <td>2</td>\n      <td>3</td>\n      <td>05/08/2017</td>\n      <td>7</td>\n      <td>03:12</td>\n      <td>...</td>\n      <td>1</td>\n      <td>1</td>\n      <td>0</td>\n      <td>0</td>\n      <td>1</td>\n      <td>2</td>\n      <td>E01001450</td>\n      <td>05</td>\n      <td>08</td>\n      <td>2017</td>\n    </tr>\n    <tr>\n      <th>1</th>\n      <td>526790.0</td>\n      <td>181970.0</td>\n      <td>-0.173845</td>\n      <td>51.522425</td>\n      <td>3</td>\n      <td>2</td>\n      <td>1</td>\n      <td>01/01/2017</td>\n      <td>1</td>\n      <td>01:30</td>\n      <td>...</td>\n      <td>1</td>\n      <td>2</td>\n      <td>0</td>\n      <td>0</td>\n      <td>1</td>\n      <td>2</td>\n      <td>E01004702</td>\n      <td>01</td>\n      <td>01</td>\n      <td>2017</td>\n    </tr>\n    <tr>\n      <th>2</th>\n      <td>535200.0</td>\n      <td>181260.0</td>\n      <td>-0.052969</td>\n      <td>51.514096</td>\n      <td>3</td>\n      <td>3</td>\n      <td>1</td>\n      <td>01/01/2017</td>\n      <td>1</td>\n      <td>00:30</td>\n      <td>...</td>\n      <td>1</td>\n      <td>1</td>\n      <td>0</td>\n      <td>0</td>\n      <td>1</td>\n      <td>2</td>\n      <td>E01004298</td>\n      <td>01</td>\n      <td>01</td>\n      <td>2017</td>\n    </tr>\n    <tr>\n      <th>3</th>\n      <td>534340.0</td>\n      <td>193560.0</td>\n      <td>-0.060658</td>\n      <td>51.624832</td>\n      <td>3</td>\n      <td>2</td>\n      <td>1</td>\n      <td>01/01/2017</td>\n      <td>1</td>\n      <td>01:11</td>\n      <td>...</td>\n      <td>2</td>\n      <td>2</td>\n      <td>0</td>\n      <td>0</td>\n      <td>1</td>\n      <td>2</td>\n      <td>E01001429</td>\n      <td>01</td>\n      <td>01</td>\n      <td>2017</td>\n    </tr>\n    <tr>\n      <th>4</th>\n      <td>533680.0</td>\n      <td>187820.0</td>\n      <td>-0.072372</td>\n      <td>51.573408</td>\n      <td>2</td>\n      <td>1</td>\n      <td>1</td>\n      <td>01/01/2017</td>\n      <td>1</td>\n      <td>01:42</td>\n      <td>...</td>\n      <td>1</td>\n      <td>2</td>\n      <td>0</td>\n      <td>0</td>\n      <td>1</td>\n      <td>2</td>\n      <td>E01001808</td>\n      <td>01</td>\n      <td>01</td>\n      <td>2017</td>\n    </tr>\n  </tbody>\n</table>\n<p>5 rows × 34 columns</p>\n</div>"
     },
     "execution_count": 33,
     "metadata": {},
     "output_type": "execute_result"
    }
   ],
   "source": [
    "# Split Date Column into Day and Month\n",
    "df_accident[[\"day\", \"month\", \"year\"]] = df_accident[\"date\"].apply(lambda x: pd.Series(str(x).split(\"/\")))\n",
    "df_accident.head()"
   ],
   "metadata": {
    "collapsed": false
   }
  }
 ],
 "metadata": {
  "kernelspec": {
   "display_name": "Python 3 (ipykernel)",
   "language": "python",
   "name": "python3"
  },
  "language_info": {
   "codemirror_mode": {
    "name": "ipython",
    "version": 3
   },
   "file_extension": ".py",
   "mimetype": "text/x-python",
   "name": "python",
   "nbconvert_exporter": "python",
   "pygments_lexer": "ipython3",
   "version": "3.9.13"
  }
 },
 "nbformat": 4,
 "nbformat_minor": 5
}
