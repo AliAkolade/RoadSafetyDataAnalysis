{
 "cells": [
  {
   "cell_type": "code",
   "execution_count": 1,
   "metadata": {
    "collapsed": true
   },
   "outputs": [],
   "source": [
    "# Data Processing\n",
    "import pandas as pd\n",
    "import numpy as np\n",
    "import math\n",
    "\n",
    "# Modelling\n",
    "from sklearn.ensemble import RandomForestClassifier\n",
    "from sklearn.metrics import accuracy_score, confusion_matrix, precision_score, recall_score, ConfusionMatrixDisplay\n",
    "from sklearn.model_selection import RandomizedSearchCV, train_test_split\n",
    "from scipy.stats import randint\n",
    "from sklearn.metrics import mean_squared_error\n",
    "\n",
    "# Tree Visualisation\n",
    "from sklearn.tree import export_graphviz\n",
    "from IPython.display import Image\n",
    "import graphviz"
   ]
  },
  {
   "cell_type": "code",
   "execution_count": 2,
   "outputs": [
    {
     "data": {
      "text/plain": "   no_of_accidents  accident_severity  number_of_vehicles  \\\n0              1.0                3.0                 2.0   \n1              1.0                3.0                 1.0   \n2              1.0                3.0                 2.0   \n3              1.0                3.0                 2.0   \n4              1.0                2.0                 1.0   \n\n   number_of_casualties  first_road_class  first_road_number  road_type  \\\n0                   1.0               3.0             4040.0        3.0   \n1                   1.0               3.0             4040.0        6.0   \n2                   2.0               6.0                0.0        6.0   \n3                   1.0               3.0             4040.0        3.0   \n4                   1.0               3.0             4040.0        3.0   \n\n   speed_limit  junction_detail  pedestrian_crossing_human_control  ...  hour  \\\n0         30.0              0.0                                0.0  ...  15.0   \n1         30.0              1.0                                0.0  ...  17.0   \n2         30.0              0.0                                0.0  ...  18.0   \n3         30.0              0.0                                1.0  ...   9.0   \n4         30.0              0.0                                0.0  ...  15.0   \n\n   day_1  day_2  day_3  day_4  day_5  day_6  day_7  location  month  \n0    0.0    0.0    0.0    0.0    0.0    0.0    1.0       0.0    1.0  \n1    0.0    0.0    0.0    0.0    0.0    1.0    0.0       0.0    3.0  \n2    0.0    0.0    0.0    0.0    0.0    0.0    1.0       0.0    5.0  \n3    0.0    0.0    0.0    1.0    0.0    0.0    0.0       0.0    6.0  \n4    0.0    1.0    0.0    0.0    0.0    0.0    0.0       0.0    7.0  \n\n[5 rows x 29 columns]",
      "text/html": "<div>\n<style scoped>\n    .dataframe tbody tr th:only-of-type {\n        vertical-align: middle;\n    }\n\n    .dataframe tbody tr th {\n        vertical-align: top;\n    }\n\n    .dataframe thead th {\n        text-align: right;\n    }\n</style>\n<table border=\"1\" class=\"dataframe\">\n  <thead>\n    <tr style=\"text-align: right;\">\n      <th></th>\n      <th>no_of_accidents</th>\n      <th>accident_severity</th>\n      <th>number_of_vehicles</th>\n      <th>number_of_casualties</th>\n      <th>first_road_class</th>\n      <th>first_road_number</th>\n      <th>road_type</th>\n      <th>speed_limit</th>\n      <th>junction_detail</th>\n      <th>pedestrian_crossing_human_control</th>\n      <th>...</th>\n      <th>hour</th>\n      <th>day_1</th>\n      <th>day_2</th>\n      <th>day_3</th>\n      <th>day_4</th>\n      <th>day_5</th>\n      <th>day_6</th>\n      <th>day_7</th>\n      <th>location</th>\n      <th>month</th>\n    </tr>\n  </thead>\n  <tbody>\n    <tr>\n      <th>0</th>\n      <td>1.0</td>\n      <td>3.0</td>\n      <td>2.0</td>\n      <td>1.0</td>\n      <td>3.0</td>\n      <td>4040.0</td>\n      <td>3.0</td>\n      <td>30.0</td>\n      <td>0.0</td>\n      <td>0.0</td>\n      <td>...</td>\n      <td>15.0</td>\n      <td>0.0</td>\n      <td>0.0</td>\n      <td>0.0</td>\n      <td>0.0</td>\n      <td>0.0</td>\n      <td>0.0</td>\n      <td>1.0</td>\n      <td>0.0</td>\n      <td>1.0</td>\n    </tr>\n    <tr>\n      <th>1</th>\n      <td>1.0</td>\n      <td>3.0</td>\n      <td>1.0</td>\n      <td>1.0</td>\n      <td>3.0</td>\n      <td>4040.0</td>\n      <td>6.0</td>\n      <td>30.0</td>\n      <td>1.0</td>\n      <td>0.0</td>\n      <td>...</td>\n      <td>17.0</td>\n      <td>0.0</td>\n      <td>0.0</td>\n      <td>0.0</td>\n      <td>0.0</td>\n      <td>0.0</td>\n      <td>1.0</td>\n      <td>0.0</td>\n      <td>0.0</td>\n      <td>3.0</td>\n    </tr>\n    <tr>\n      <th>2</th>\n      <td>1.0</td>\n      <td>3.0</td>\n      <td>2.0</td>\n      <td>2.0</td>\n      <td>6.0</td>\n      <td>0.0</td>\n      <td>6.0</td>\n      <td>30.0</td>\n      <td>0.0</td>\n      <td>0.0</td>\n      <td>...</td>\n      <td>18.0</td>\n      <td>0.0</td>\n      <td>0.0</td>\n      <td>0.0</td>\n      <td>0.0</td>\n      <td>0.0</td>\n      <td>0.0</td>\n      <td>1.0</td>\n      <td>0.0</td>\n      <td>5.0</td>\n    </tr>\n    <tr>\n      <th>3</th>\n      <td>1.0</td>\n      <td>3.0</td>\n      <td>2.0</td>\n      <td>1.0</td>\n      <td>3.0</td>\n      <td>4040.0</td>\n      <td>3.0</td>\n      <td>30.0</td>\n      <td>0.0</td>\n      <td>1.0</td>\n      <td>...</td>\n      <td>9.0</td>\n      <td>0.0</td>\n      <td>0.0</td>\n      <td>0.0</td>\n      <td>1.0</td>\n      <td>0.0</td>\n      <td>0.0</td>\n      <td>0.0</td>\n      <td>0.0</td>\n      <td>6.0</td>\n    </tr>\n    <tr>\n      <th>4</th>\n      <td>1.0</td>\n      <td>2.0</td>\n      <td>1.0</td>\n      <td>1.0</td>\n      <td>3.0</td>\n      <td>4040.0</td>\n      <td>3.0</td>\n      <td>30.0</td>\n      <td>0.0</td>\n      <td>0.0</td>\n      <td>...</td>\n      <td>15.0</td>\n      <td>0.0</td>\n      <td>1.0</td>\n      <td>0.0</td>\n      <td>0.0</td>\n      <td>0.0</td>\n      <td>0.0</td>\n      <td>0.0</td>\n      <td>0.0</td>\n      <td>7.0</td>\n    </tr>\n  </tbody>\n</table>\n<p>5 rows × 29 columns</p>\n</div>"
     },
     "execution_count": 2,
     "metadata": {},
     "output_type": "execute_result"
    }
   ],
   "source": [
    "# load dataset\n",
    "df = pd.read_csv(\"dataset_2016.csv\")\n",
    "df.head()"
   ],
   "metadata": {
    "collapsed": false
   }
  },
  {
   "cell_type": "code",
   "execution_count": 3,
   "outputs": [
    {
     "name": "stdout",
     "output_type": "stream",
     "text": [
      "(9445, 28)\n",
      "(9445,)\n"
     ]
    }
   ],
   "source": [
    "#split dataset in features and target variable\n",
    "X = df.drop([\"no_of_accidents\"], axis=1)  # Features\n",
    "y = df[\"no_of_accidents\"]  # Target Variable\n",
    "print(X.shape)\n",
    "print(y.shape)"
   ],
   "metadata": {
    "collapsed": false
   }
  },
  {
   "cell_type": "code",
   "execution_count": 4,
   "outputs": [],
   "source": [
    "# Split dataset into training set and test set\n",
    "X_train, X_test, y_train, y_test = train_test_split(X, y, test_size=0.3, random_state=1)\n",
    "# 70% training and 30% test"
   ],
   "metadata": {
    "collapsed": false
   }
  },
  {
   "cell_type": "code",
   "execution_count": 5,
   "outputs": [
    {
     "data": {
      "text/plain": "RandomForestClassifier()",
      "text/html": "<style>#sk-container-id-1 {color: black;background-color: white;}#sk-container-id-1 pre{padding: 0;}#sk-container-id-1 div.sk-toggleable {background-color: white;}#sk-container-id-1 label.sk-toggleable__label {cursor: pointer;display: block;width: 100%;margin-bottom: 0;padding: 0.3em;box-sizing: border-box;text-align: center;}#sk-container-id-1 label.sk-toggleable__label-arrow:before {content: \"▸\";float: left;margin-right: 0.25em;color: #696969;}#sk-container-id-1 label.sk-toggleable__label-arrow:hover:before {color: black;}#sk-container-id-1 div.sk-estimator:hover label.sk-toggleable__label-arrow:before {color: black;}#sk-container-id-1 div.sk-toggleable__content {max-height: 0;max-width: 0;overflow: hidden;text-align: left;background-color: #f0f8ff;}#sk-container-id-1 div.sk-toggleable__content pre {margin: 0.2em;color: black;border-radius: 0.25em;background-color: #f0f8ff;}#sk-container-id-1 input.sk-toggleable__control:checked~div.sk-toggleable__content {max-height: 200px;max-width: 100%;overflow: auto;}#sk-container-id-1 input.sk-toggleable__control:checked~label.sk-toggleable__label-arrow:before {content: \"▾\";}#sk-container-id-1 div.sk-estimator input.sk-toggleable__control:checked~label.sk-toggleable__label {background-color: #d4ebff;}#sk-container-id-1 div.sk-label input.sk-toggleable__control:checked~label.sk-toggleable__label {background-color: #d4ebff;}#sk-container-id-1 input.sk-hidden--visually {border: 0;clip: rect(1px 1px 1px 1px);clip: rect(1px, 1px, 1px, 1px);height: 1px;margin: -1px;overflow: hidden;padding: 0;position: absolute;width: 1px;}#sk-container-id-1 div.sk-estimator {font-family: monospace;background-color: #f0f8ff;border: 1px dotted black;border-radius: 0.25em;box-sizing: border-box;margin-bottom: 0.5em;}#sk-container-id-1 div.sk-estimator:hover {background-color: #d4ebff;}#sk-container-id-1 div.sk-parallel-item::after {content: \"\";width: 100%;border-bottom: 1px solid gray;flex-grow: 1;}#sk-container-id-1 div.sk-label:hover label.sk-toggleable__label {background-color: #d4ebff;}#sk-container-id-1 div.sk-serial::before {content: \"\";position: absolute;border-left: 1px solid gray;box-sizing: border-box;top: 0;bottom: 0;left: 50%;z-index: 0;}#sk-container-id-1 div.sk-serial {display: flex;flex-direction: column;align-items: center;background-color: white;padding-right: 0.2em;padding-left: 0.2em;position: relative;}#sk-container-id-1 div.sk-item {position: relative;z-index: 1;}#sk-container-id-1 div.sk-parallel {display: flex;align-items: stretch;justify-content: center;background-color: white;position: relative;}#sk-container-id-1 div.sk-item::before, #sk-container-id-1 div.sk-parallel-item::before {content: \"\";position: absolute;border-left: 1px solid gray;box-sizing: border-box;top: 0;bottom: 0;left: 50%;z-index: -1;}#sk-container-id-1 div.sk-parallel-item {display: flex;flex-direction: column;z-index: 1;position: relative;background-color: white;}#sk-container-id-1 div.sk-parallel-item:first-child::after {align-self: flex-end;width: 50%;}#sk-container-id-1 div.sk-parallel-item:last-child::after {align-self: flex-start;width: 50%;}#sk-container-id-1 div.sk-parallel-item:only-child::after {width: 0;}#sk-container-id-1 div.sk-dashed-wrapped {border: 1px dashed gray;margin: 0 0.4em 0.5em 0.4em;box-sizing: border-box;padding-bottom: 0.4em;background-color: white;}#sk-container-id-1 div.sk-label label {font-family: monospace;font-weight: bold;display: inline-block;line-height: 1.2em;}#sk-container-id-1 div.sk-label-container {text-align: center;}#sk-container-id-1 div.sk-container {/* jupyter's `normalize.less` sets `[hidden] { display: none; }` but bootstrap.min.css set `[hidden] { display: none !important; }` so we also need the `!important` here to be able to override the default hidden behavior on the sphinx rendered scikit-learn.org. See: https://github.com/scikit-learn/scikit-learn/issues/21755 */display: inline-block !important;position: relative;}#sk-container-id-1 div.sk-text-repr-fallback {display: none;}</style><div id=\"sk-container-id-1\" class=\"sk-top-container\"><div class=\"sk-text-repr-fallback\"><pre>RandomForestClassifier()</pre><b>In a Jupyter environment, please rerun this cell to show the HTML representation or trust the notebook. <br />On GitHub, the HTML representation is unable to render, please try loading this page with nbviewer.org.</b></div><div class=\"sk-container\" hidden><div class=\"sk-item\"><div class=\"sk-estimator sk-toggleable\"><input class=\"sk-toggleable__control sk-hidden--visually\" id=\"sk-estimator-id-1\" type=\"checkbox\" checked><label for=\"sk-estimator-id-1\" class=\"sk-toggleable__label sk-toggleable__label-arrow\">RandomForestClassifier</label><div class=\"sk-toggleable__content\"><pre>RandomForestClassifier()</pre></div></div></div></div></div>"
     },
     "execution_count": 5,
     "metadata": {},
     "output_type": "execute_result"
    }
   ],
   "source": [
    "# Fitting and Evaluating the Model\n",
    "rf = RandomForestClassifier()\n",
    "rf.fit(X_train, y_train)"
   ],
   "metadata": {
    "collapsed": false
   }
  },
  {
   "cell_type": "code",
   "execution_count": 6,
   "outputs": [
    {
     "name": "stdout",
     "output_type": "stream",
     "text": [
      "Accuracy: 0.9438955539872971\n"
     ]
    }
   ],
   "source": [
    "y_pred = rf.predict(X_test)\n",
    "accuracy = accuracy_score(y_test, y_pred)\n",
    "print(\"Accuracy:\", accuracy)"
   ],
   "metadata": {
    "collapsed": false
   }
  },
  {
   "cell_type": "code",
   "execution_count": 7,
   "outputs": [
    {
     "name": "stdout",
     "output_type": "stream",
     "text": [
      "Accuracy:  0.9438955539872971\n",
      "Micro-averaged precision score: 0.94\n",
      "Per-class precision score: 0.9570921641600005\n"
     ]
    }
   ],
   "source": [
    "y_score = rf.score(X_test, y_test)\n",
    "print('Accuracy: ', y_score)\n",
    "\n",
    "# Compute the average precision score\n",
    "from sklearn.metrics import precision_score\n",
    "\n",
    "micro_precision = precision_score(y_pred, y_test, average='micro')\n",
    "print('Micro-averaged precision score: {0:0.2f}'.format(\n",
    "    micro_precision))\n",
    "\n",
    "per_class_precision = precision_score(y_pred, y_test, average=\"weighted\")\n",
    "print('Per-class precision score:', per_class_precision)"
   ],
   "metadata": {
    "collapsed": false
   }
  },
  {
   "cell_type": "code",
   "execution_count": 8,
   "outputs": [
    {
     "name": "stdout",
     "output_type": "stream",
     "text": [
      "Root Mean Square Error:\n",
      "\n",
      "0.31432512194624346\n"
     ]
    }
   ],
   "source": [
    "mse = mean_squared_error(y_test, y_pred)\n",
    "\n",
    "root_mse = math.sqrt(mse)\n",
    "print(\"Root Mean Square Error:\\n\")\n",
    "print(root_mse)"
   ],
   "metadata": {
    "collapsed": false
   }
  },
  {
   "cell_type": "code",
   "execution_count": 9,
   "outputs": [
    {
     "data": {
      "image/svg+xml": "<?xml version=\"1.0\" encoding=\"UTF-8\" standalone=\"no\"?>\n<!DOCTYPE svg PUBLIC \"-//W3C//DTD SVG 1.1//EN\"\n \"http://www.w3.org/Graphics/SVG/1.1/DTD/svg11.dtd\">\n<!-- Generated by graphviz version 7.1.0 (20230121.1956)\n -->\n<!-- Title: Tree Pages: 1 -->\n<svg width=\"1548pt\" height=\"341pt\"\n viewBox=\"0.00 0.00 1548.00 341.00\" xmlns=\"http://www.w3.org/2000/svg\" xmlns:xlink=\"http://www.w3.org/1999/xlink\">\n<g id=\"graph0\" class=\"graph\" transform=\"scale(1 1) rotate(0) translate(4 337)\">\n<title>Tree</title>\n<polygon fill=\"white\" stroke=\"none\" points=\"-4,4 -4,-337 1544,-337 1544,4 -4,4\"/>\n<!-- 0 -->\n<g id=\"node1\" class=\"node\">\n<title>0</title>\n<polygon fill=\"#eca46f\" stroke=\"black\" points=\"928,-333 520,-333 520,-280 928,-280 928,-333\"/>\n<text text-anchor=\"middle\" x=\"724\" y=\"-317.8\" font-family=\"Helvetica,sans-Serif\" font-size=\"14.00\">number_of_vehicles &lt;= 2.5</text>\n<text text-anchor=\"middle\" x=\"724\" y=\"-302.8\" font-family=\"Helvetica,sans-Serif\" font-size=\"14.00\">samples = 100.0%</text>\n<text text-anchor=\"middle\" x=\"724\" y=\"-287.8\" font-family=\"Helvetica,sans-Serif\" font-size=\"14.00\">value = [0.773, 0.172, 0.038, 0.01, 0.005, 0.001, 0.0, 0.0, 0.0]</text>\n</g>\n<!-- 1 -->\n<g id=\"node2\" class=\"node\">\n<title>1</title>\n<polygon fill=\"#e5833d\" stroke=\"black\" points=\"698,-236.5 348,-236.5 348,-183.5 698,-183.5 698,-236.5\"/>\n<text text-anchor=\"middle\" x=\"523\" y=\"-221.3\" font-family=\"Helvetica,sans-Serif\" font-size=\"14.00\">day_4 &lt;= 1.5</text>\n<text text-anchor=\"middle\" x=\"523\" y=\"-206.3\" font-family=\"Helvetica,sans-Serif\" font-size=\"14.00\">samples = 70.4%</text>\n<text text-anchor=\"middle\" x=\"523\" y=\"-191.3\" font-family=\"Helvetica,sans-Serif\" font-size=\"14.00\">value = [0.982, 0.018, 0.0, 0.0, 0.0, 0.0, 0.0, 0.0, 0.0]</text>\n</g>\n<!-- 0&#45;&gt;1 -->\n<g id=\"edge1\" class=\"edge\">\n<title>0&#45;&gt;1</title>\n<path fill=\"none\" stroke=\"black\" d=\"M668.81,-279.55C643.88,-267.83 614.24,-253.9 588.22,-241.66\"/>\n<polygon fill=\"black\" stroke=\"black\" points=\"589.98,-238.62 579.44,-237.53 587,-244.96 589.98,-238.62\"/>\n<text text-anchor=\"middle\" x=\"586.54\" y=\"-256.71\" font-family=\"Helvetica,sans-Serif\" font-size=\"14.00\">True</text>\n</g>\n<!-- 194 -->\n<g id=\"node7\" class=\"node\">\n<title>194</title>\n<polygon fill=\"#f1f6bb\" stroke=\"black\" points=\"1134,-244 716,-244 716,-176 1134,-176 1134,-244\"/>\n<text text-anchor=\"middle\" x=\"925\" y=\"-228.8\" font-family=\"Helvetica,sans-Serif\" font-size=\"14.00\">light_conditions &lt;= 2.5</text>\n<text text-anchor=\"middle\" x=\"925\" y=\"-213.8\" font-family=\"Helvetica,sans-Serif\" font-size=\"14.00\">samples = 29.6%</text>\n<text text-anchor=\"middle\" x=\"925\" y=\"-198.8\" font-family=\"Helvetica,sans-Serif\" font-size=\"14.00\">value = [0.285, 0.531, 0.128, 0.035, 0.017, 0.002, 0.002, 0.001</text>\n<text text-anchor=\"middle\" x=\"925\" y=\"-183.8\" font-family=\"Helvetica,sans-Serif\" font-size=\"14.00\">0.0]</text>\n</g>\n<!-- 0&#45;&gt;194 -->\n<g id=\"edge6\" class=\"edge\">\n<title>0&#45;&gt;194</title>\n<path fill=\"none\" stroke=\"black\" d=\"M779.19,-279.55C799.16,-270.17 822.14,-259.36 843.87,-249.14\"/>\n<polygon fill=\"black\" stroke=\"black\" points=\"845.15,-252.41 852.71,-244.99 842.17,-246.08 845.15,-252.41\"/>\n<text text-anchor=\"middle\" x=\"845.6\" y=\"-264.16\" font-family=\"Helvetica,sans-Serif\" font-size=\"14.00\">False</text>\n</g>\n<!-- 2 -->\n<g id=\"node3\" class=\"node\">\n<title>2</title>\n<polygon fill=\"#e5833c\" stroke=\"black\" points=\"350,-132.5 0,-132.5 0,-79.5 350,-79.5 350,-132.5\"/>\n<text text-anchor=\"middle\" x=\"175\" y=\"-117.3\" font-family=\"Helvetica,sans-Serif\" font-size=\"14.00\">road_surface_conditions &lt;= 1.5</text>\n<text text-anchor=\"middle\" x=\"175\" y=\"-102.3\" font-family=\"Helvetica,sans-Serif\" font-size=\"14.00\">samples = 70.3%</text>\n<text text-anchor=\"middle\" x=\"175\" y=\"-87.3\" font-family=\"Helvetica,sans-Serif\" font-size=\"14.00\">value = [0.983, 0.017, 0.0, 0.0, 0.0, 0.0, 0.0, 0.0, 0.0]</text>\n</g>\n<!-- 1&#45;&gt;2 -->\n<g id=\"edge2\" class=\"edge\">\n<title>1&#45;&gt;2</title>\n<path fill=\"none\" stroke=\"black\" d=\"M434.74,-183.13C385.87,-168.81 324.97,-150.96 274.42,-136.14\"/>\n<polygon fill=\"black\" stroke=\"black\" points=\"275.51,-132.81 264.93,-133.36 273.54,-139.53 275.51,-132.81\"/>\n</g>\n<!-- 193 -->\n<g id=\"node6\" class=\"node\">\n<title>193</title>\n<polygon fill=\"#d7e539\" stroke=\"black\" points=\"685.5,-125 368.5,-125 368.5,-87 685.5,-87 685.5,-125\"/>\n<text text-anchor=\"middle\" x=\"527\" y=\"-109.8\" font-family=\"Helvetica,sans-Serif\" font-size=\"14.00\">samples = 0.1%</text>\n<text text-anchor=\"middle\" x=\"527\" y=\"-94.8\" font-family=\"Helvetica,sans-Serif\" font-size=\"14.00\">value = [0.0, 1.0, 0.0, 0.0, 0.0, 0.0, 0.0, 0.0, 0.0]</text>\n</g>\n<!-- 1&#45;&gt;193 -->\n<g id=\"edge5\" class=\"edge\">\n<title>1&#45;&gt;193</title>\n<path fill=\"none\" stroke=\"black\" d=\"M524.01,-183.26C524.57,-169.01 525.27,-151.24 525.85,-136.44\"/>\n<polygon fill=\"black\" stroke=\"black\" points=\"529.33,-136.97 526.22,-126.84 522.33,-136.7 529.33,-136.97\"/>\n</g>\n<!-- 3 -->\n<g id=\"node4\" class=\"node\">\n<title>3</title>\n<polygon fill=\"#c0c0c0\" stroke=\"black\" points=\"166,-36 112,-36 112,0 166,0 166,-36\"/>\n<text text-anchor=\"middle\" x=\"139\" y=\"-14.3\" font-family=\"Helvetica,sans-Serif\" font-size=\"14.00\">(...)</text>\n</g>\n<!-- 2&#45;&gt;3 -->\n<g id=\"edge3\" class=\"edge\">\n<title>2&#45;&gt;3</title>\n<path fill=\"none\" stroke=\"black\" d=\"M164.2,-79.2C159.94,-69.02 155.04,-57.31 150.7,-46.94\"/>\n<polygon fill=\"black\" stroke=\"black\" points=\"153.94,-45.61 146.85,-37.74 147.48,-48.32 153.94,-45.61\"/>\n</g>\n<!-- 170 -->\n<g id=\"node5\" class=\"node\">\n<title>170</title>\n<polygon fill=\"#c0c0c0\" stroke=\"black\" points=\"238,-36 184,-36 184,0 238,0 238,-36\"/>\n<text text-anchor=\"middle\" x=\"211\" y=\"-14.3\" font-family=\"Helvetica,sans-Serif\" font-size=\"14.00\">(...)</text>\n</g>\n<!-- 2&#45;&gt;170 -->\n<g id=\"edge4\" class=\"edge\">\n<title>2&#45;&gt;170</title>\n<path fill=\"none\" stroke=\"black\" d=\"M185.8,-79.2C190.06,-69.02 194.96,-57.31 199.3,-46.94\"/>\n<polygon fill=\"black\" stroke=\"black\" points=\"202.52,-48.32 203.15,-37.74 196.06,-45.61 202.52,-48.32\"/>\n</g>\n<!-- 195 -->\n<g id=\"node8\" class=\"node\">\n<title>195</title>\n<polygon fill=\"#edf3a3\" stroke=\"black\" points=\"1130,-140 712,-140 712,-72 1130,-72 1130,-140\"/>\n<text text-anchor=\"middle\" x=\"921\" y=\"-124.8\" font-family=\"Helvetica,sans-Serif\" font-size=\"14.00\">speed_limit &lt;= 35.0</text>\n<text text-anchor=\"middle\" x=\"921\" y=\"-109.8\" font-family=\"Helvetica,sans-Serif\" font-size=\"14.00\">samples = 23.2%</text>\n<text text-anchor=\"middle\" x=\"921\" y=\"-94.8\" font-family=\"Helvetica,sans-Serif\" font-size=\"14.00\">value = [0.239, 0.591, 0.115, 0.034, 0.015, 0.003, 0.002, 0.001</text>\n<text text-anchor=\"middle\" x=\"921\" y=\"-79.8\" font-family=\"Helvetica,sans-Serif\" font-size=\"14.00\">0.0]</text>\n</g>\n<!-- 194&#45;&gt;195 -->\n<g id=\"edge7\" class=\"edge\">\n<title>194&#45;&gt;195</title>\n<path fill=\"none\" stroke=\"black\" d=\"M923.69,-175.6C923.39,-168.03 923.07,-159.87 922.76,-151.9\"/>\n<polygon fill=\"black\" stroke=\"black\" points=\"926.26,-151.84 922.37,-141.99 919.27,-152.12 926.26,-151.84\"/>\n</g>\n<!-- 750 -->\n<g id=\"node11\" class=\"node\">\n<title>750</title>\n<polygon fill=\"#f9e3d3\" stroke=\"black\" points=\"1540,-132.5 1148,-132.5 1148,-79.5 1540,-79.5 1540,-132.5\"/>\n<text text-anchor=\"middle\" x=\"1344\" y=\"-117.3\" font-family=\"Helvetica,sans-Serif\" font-size=\"14.00\">day_3 &lt;= 0.5</text>\n<text text-anchor=\"middle\" x=\"1344\" y=\"-102.3\" font-family=\"Helvetica,sans-Serif\" font-size=\"14.00\">samples = 6.4%</text>\n<text text-anchor=\"middle\" x=\"1344\" y=\"-87.3\" font-family=\"Helvetica,sans-Serif\" font-size=\"14.00\">value = [0.46, 0.307, 0.175, 0.036, 0.022, 0.0, 0.0, 0.0, 0.0]</text>\n</g>\n<!-- 194&#45;&gt;750 -->\n<g id=\"edge10\" class=\"edge\">\n<title>194&#45;&gt;750</title>\n<path fill=\"none\" stroke=\"black\" d=\"M1062.49,-175.53C1115.39,-162.65 1175.27,-148.08 1226.16,-135.69\"/>\n<polygon fill=\"black\" stroke=\"black\" points=\"1226.85,-139.12 1235.74,-133.35 1225.2,-132.32 1226.85,-139.12\"/>\n</g>\n<!-- 196 -->\n<g id=\"node9\" class=\"node\">\n<title>196</title>\n<polygon fill=\"#c0c0c0\" stroke=\"black\" points=\"912,-36 858,-36 858,0 912,0 912,-36\"/>\n<text text-anchor=\"middle\" x=\"885\" y=\"-14.3\" font-family=\"Helvetica,sans-Serif\" font-size=\"14.00\">(...)</text>\n</g>\n<!-- 195&#45;&gt;196 -->\n<g id=\"edge8\" class=\"edge\">\n<title>195&#45;&gt;196</title>\n<path fill=\"none\" stroke=\"black\" d=\"M906.98,-71.5C903.54,-63.3 899.9,-54.61 896.6,-46.7\"/>\n<polygon fill=\"black\" stroke=\"black\" points=\"899.87,-45.47 892.78,-37.59 893.42,-48.17 899.87,-45.47\"/>\n</g>\n<!-- 693 -->\n<g id=\"node10\" class=\"node\">\n<title>693</title>\n<polygon fill=\"#c0c0c0\" stroke=\"black\" points=\"984,-36 930,-36 930,0 984,0 984,-36\"/>\n<text text-anchor=\"middle\" x=\"957\" y=\"-14.3\" font-family=\"Helvetica,sans-Serif\" font-size=\"14.00\">(...)</text>\n</g>\n<!-- 195&#45;&gt;693 -->\n<g id=\"edge9\" class=\"edge\">\n<title>195&#45;&gt;693</title>\n<path fill=\"none\" stroke=\"black\" d=\"M935.02,-71.5C938.46,-63.3 942.1,-54.61 945.4,-46.7\"/>\n<polygon fill=\"black\" stroke=\"black\" points=\"948.58,-48.17 949.22,-37.59 942.13,-45.47 948.58,-48.17\"/>\n</g>\n<!-- 751 -->\n<g id=\"node12\" class=\"node\">\n<title>751</title>\n<polygon fill=\"#c0c0c0\" stroke=\"black\" points=\"1335,-36 1281,-36 1281,0 1335,0 1335,-36\"/>\n<text text-anchor=\"middle\" x=\"1308\" y=\"-14.3\" font-family=\"Helvetica,sans-Serif\" font-size=\"14.00\">(...)</text>\n</g>\n<!-- 750&#45;&gt;751 -->\n<g id=\"edge11\" class=\"edge\">\n<title>750&#45;&gt;751</title>\n<path fill=\"none\" stroke=\"black\" d=\"M1333.2,-79.2C1328.94,-69.02 1324.04,-57.31 1319.7,-46.94\"/>\n<polygon fill=\"black\" stroke=\"black\" points=\"1322.94,-45.61 1315.85,-37.74 1316.48,-48.32 1322.94,-45.61\"/>\n</g>\n<!-- 898 -->\n<g id=\"node13\" class=\"node\">\n<title>898</title>\n<polygon fill=\"#c0c0c0\" stroke=\"black\" points=\"1407,-36 1353,-36 1353,0 1407,0 1407,-36\"/>\n<text text-anchor=\"middle\" x=\"1380\" y=\"-14.3\" font-family=\"Helvetica,sans-Serif\" font-size=\"14.00\">(...)</text>\n</g>\n<!-- 750&#45;&gt;898 -->\n<g id=\"edge12\" class=\"edge\">\n<title>750&#45;&gt;898</title>\n<path fill=\"none\" stroke=\"black\" d=\"M1354.8,-79.2C1359.06,-69.02 1363.96,-57.31 1368.3,-46.94\"/>\n<polygon fill=\"black\" stroke=\"black\" points=\"1371.52,-48.32 1372.15,-37.74 1365.06,-45.61 1371.52,-48.32\"/>\n</g>\n</g>\n</svg>\n",
      "text/plain": "<graphviz.sources.Source at 0x19fd685e650>"
     },
     "metadata": {},
     "output_type": "display_data"
    },
    {
     "data": {
      "image/svg+xml": "<?xml version=\"1.0\" encoding=\"UTF-8\" standalone=\"no\"?>\n<!DOCTYPE svg PUBLIC \"-//W3C//DTD SVG 1.1//EN\"\n \"http://www.w3.org/Graphics/SVG/1.1/DTD/svg11.dtd\">\n<!-- Generated by graphviz version 7.1.0 (20230121.1956)\n -->\n<!-- Title: Tree Pages: 1 -->\n<svg width=\"1576pt\" height=\"356pt\"\n viewBox=\"0.00 0.00 1575.50 356.00\" xmlns=\"http://www.w3.org/2000/svg\" xmlns:xlink=\"http://www.w3.org/1999/xlink\">\n<g id=\"graph0\" class=\"graph\" transform=\"scale(1 1) rotate(0) translate(4 352)\">\n<title>Tree</title>\n<polygon fill=\"white\" stroke=\"none\" points=\"-4,4 -4,-352 1571.5,-352 1571.5,4 -4,4\"/>\n<!-- 0 -->\n<g id=\"node1\" class=\"node\">\n<title>0</title>\n<polygon fill=\"#eca36e\" stroke=\"black\" points=\"951,-348 558,-348 558,-280 951,-280 951,-348\"/>\n<text text-anchor=\"middle\" x=\"754.5\" y=\"-332.8\" font-family=\"Helvetica,sans-Serif\" font-size=\"14.00\">day_6 &lt;= 0.5</text>\n<text text-anchor=\"middle\" x=\"754.5\" y=\"-317.8\" font-family=\"Helvetica,sans-Serif\" font-size=\"14.00\">samples = 100.0%</text>\n<text text-anchor=\"middle\" x=\"754.5\" y=\"-302.8\" font-family=\"Helvetica,sans-Serif\" font-size=\"14.00\">value = [0.777, 0.17, 0.038, 0.009, 0.004, 0.001, 0.001, 0.0</text>\n<text text-anchor=\"middle\" x=\"754.5\" y=\"-287.8\" font-family=\"Helvetica,sans-Serif\" font-size=\"14.00\">0.0]</text>\n</g>\n<!-- 1 -->\n<g id=\"node2\" class=\"node\">\n<title>1</title>\n<polygon fill=\"#ea9b63\" stroke=\"black\" points=\"744.5,-236.5 344.5,-236.5 344.5,-183.5 744.5,-183.5 744.5,-236.5\"/>\n<text text-anchor=\"middle\" x=\"544.5\" y=\"-221.3\" font-family=\"Helvetica,sans-Serif\" font-size=\"14.00\">number_of_casualties &lt;= 1.5</text>\n<text text-anchor=\"middle\" x=\"544.5\" y=\"-206.3\" font-family=\"Helvetica,sans-Serif\" font-size=\"14.00\">samples = 79.8%</text>\n<text text-anchor=\"middle\" x=\"544.5\" y=\"-191.3\" font-family=\"Helvetica,sans-Serif\" font-size=\"14.00\">value = [0.819, 0.14, 0.03, 0.007, 0.002, 0.001, 0.0, 0.0, 0.0]</text>\n</g>\n<!-- 0&#45;&gt;1 -->\n<g id=\"edge1\" class=\"edge\">\n<title>0&#45;&gt;1</title>\n<path fill=\"none\" stroke=\"black\" d=\"M685.74,-279.6C660.72,-267.45 632.58,-253.78 608.04,-241.86\"/>\n<polygon fill=\"black\" stroke=\"black\" points=\"609.64,-238.75 599.12,-237.53 606.59,-245.05 609.64,-238.75\"/>\n<text text-anchor=\"middle\" x=\"605.94\" y=\"-256.79\" font-family=\"Helvetica,sans-Serif\" font-size=\"14.00\">True</text>\n</g>\n<!-- 658 -->\n<g id=\"node7\" class=\"node\">\n<title>658</title>\n<polygon fill=\"#f3c6a5\" stroke=\"black\" points=\"1161,-244 768,-244 768,-176 1161,-176 1161,-244\"/>\n<text text-anchor=\"middle\" x=\"964.5\" y=\"-228.8\" font-family=\"Helvetica,sans-Serif\" font-size=\"14.00\">day_4 &lt;= 0.5</text>\n<text text-anchor=\"middle\" x=\"964.5\" y=\"-213.8\" font-family=\"Helvetica,sans-Serif\" font-size=\"14.00\">samples = 20.2%</text>\n<text text-anchor=\"middle\" x=\"964.5\" y=\"-198.8\" font-family=\"Helvetica,sans-Serif\" font-size=\"14.00\">value = [0.61, 0.287, 0.068, 0.017, 0.011, 0.004, 0.002, 0.0</text>\n<text text-anchor=\"middle\" x=\"964.5\" y=\"-183.8\" font-family=\"Helvetica,sans-Serif\" font-size=\"14.00\">0.0]</text>\n</g>\n<!-- 0&#45;&gt;658 -->\n<g id=\"edge6\" class=\"edge\">\n<title>0&#45;&gt;658</title>\n<path fill=\"none\" stroke=\"black\" d=\"M823.26,-279.6C843.11,-269.96 864.94,-259.36 885.36,-249.44\"/>\n<polygon fill=\"black\" stroke=\"black\" points=\"886.76,-252.65 894.22,-245.13 883.7,-246.36 886.76,-252.65\"/>\n<text text-anchor=\"middle\" x=\"887.41\" y=\"-264.4\" font-family=\"Helvetica,sans-Serif\" font-size=\"14.00\">False</text>\n</g>\n<!-- 2 -->\n<g id=\"node3\" class=\"node\">\n<title>2</title>\n<polygon fill=\"#e58139\" stroke=\"black\" points=\"317,-125 0,-125 0,-87 317,-87 317,-125\"/>\n<text text-anchor=\"middle\" x=\"158.5\" y=\"-109.8\" font-family=\"Helvetica,sans-Serif\" font-size=\"14.00\">samples = 50.0%</text>\n<text text-anchor=\"middle\" x=\"158.5\" y=\"-94.8\" font-family=\"Helvetica,sans-Serif\" font-size=\"14.00\">value = [1.0, 0.0, 0.0, 0.0, 0.0, 0.0, 0.0, 0.0, 0.0]</text>\n</g>\n<!-- 1&#45;&gt;2 -->\n<g id=\"edge2\" class=\"edge\">\n<title>1&#45;&gt;2</title>\n<path fill=\"none\" stroke=\"black\" d=\"M446.6,-183.13C382.47,-166.18 299.66,-144.3 239.29,-128.35\"/>\n<polygon fill=\"black\" stroke=\"black\" points=\"240.32,-125 229.75,-125.83 238.53,-131.77 240.32,-125\"/>\n</g>\n<!-- 3 -->\n<g id=\"node4\" class=\"node\">\n<title>3</title>\n<polygon fill=\"#f9e2d1\" stroke=\"black\" points=\"753.5,-140 335.5,-140 335.5,-72 753.5,-72 753.5,-140\"/>\n<text text-anchor=\"middle\" x=\"544.5\" y=\"-124.8\" font-family=\"Helvetica,sans-Serif\" font-size=\"14.00\">hour &lt;= 16.5</text>\n<text text-anchor=\"middle\" x=\"544.5\" y=\"-109.8\" font-family=\"Helvetica,sans-Serif\" font-size=\"14.00\">samples = 29.8%</text>\n<text text-anchor=\"middle\" x=\"544.5\" y=\"-94.8\" font-family=\"Helvetica,sans-Serif\" font-size=\"14.00\">value = [0.519, 0.372, 0.081, 0.019, 0.006, 0.002, 0.001, 0.001</text>\n<text text-anchor=\"middle\" x=\"544.5\" y=\"-79.8\" font-family=\"Helvetica,sans-Serif\" font-size=\"14.00\">0.001]</text>\n</g>\n<!-- 1&#45;&gt;3 -->\n<g id=\"edge3\" class=\"edge\">\n<title>1&#45;&gt;3</title>\n<path fill=\"none\" stroke=\"black\" d=\"M544.5,-183.26C544.5,-173.73 544.5,-162.62 544.5,-151.87\"/>\n<polygon fill=\"black\" stroke=\"black\" points=\"548,-151.97 544.5,-141.97 541,-151.97 548,-151.97\"/>\n</g>\n<!-- 4 -->\n<g id=\"node5\" class=\"node\">\n<title>4</title>\n<polygon fill=\"#c0c0c0\" stroke=\"black\" points=\"535.5,-36 481.5,-36 481.5,0 535.5,0 535.5,-36\"/>\n<text text-anchor=\"middle\" x=\"508.5\" y=\"-14.3\" font-family=\"Helvetica,sans-Serif\" font-size=\"14.00\">(...)</text>\n</g>\n<!-- 3&#45;&gt;4 -->\n<g id=\"edge4\" class=\"edge\">\n<title>3&#45;&gt;4</title>\n<path fill=\"none\" stroke=\"black\" d=\"M530.48,-71.5C527.04,-63.3 523.4,-54.61 520.1,-46.7\"/>\n<polygon fill=\"black\" stroke=\"black\" points=\"523.37,-45.47 516.28,-37.59 516.92,-48.17 523.37,-45.47\"/>\n</g>\n<!-- 533 -->\n<g id=\"node6\" class=\"node\">\n<title>533</title>\n<polygon fill=\"#c0c0c0\" stroke=\"black\" points=\"607.5,-36 553.5,-36 553.5,0 607.5,0 607.5,-36\"/>\n<text text-anchor=\"middle\" x=\"580.5\" y=\"-14.3\" font-family=\"Helvetica,sans-Serif\" font-size=\"14.00\">(...)</text>\n</g>\n<!-- 3&#45;&gt;533 -->\n<g id=\"edge5\" class=\"edge\">\n<title>3&#45;&gt;533</title>\n<path fill=\"none\" stroke=\"black\" d=\"M558.52,-71.5C561.96,-63.3 565.6,-54.61 568.9,-46.7\"/>\n<polygon fill=\"black\" stroke=\"black\" points=\"572.08,-48.17 572.72,-37.59 565.63,-45.47 572.08,-48.17\"/>\n</g>\n<!-- 659 -->\n<g id=\"node8\" class=\"node\">\n<title>659</title>\n<polygon fill=\"#f1ba92\" stroke=\"black\" points=\"1157,-140 772,-140 772,-72 1157,-72 1157,-140\"/>\n<text text-anchor=\"middle\" x=\"964.5\" y=\"-124.8\" font-family=\"Helvetica,sans-Serif\" font-size=\"14.00\">number_of_casualties &lt;= 1.5</text>\n<text text-anchor=\"middle\" x=\"964.5\" y=\"-109.8\" font-family=\"Helvetica,sans-Serif\" font-size=\"14.00\">samples = 18.4%</text>\n<text text-anchor=\"middle\" x=\"964.5\" y=\"-94.8\" font-family=\"Helvetica,sans-Serif\" font-size=\"14.00\">value = [0.667, 0.261, 0.051, 0.013, 0.003, 0.004, 0.0, 0.0</text>\n<text text-anchor=\"middle\" x=\"964.5\" y=\"-79.8\" font-family=\"Helvetica,sans-Serif\" font-size=\"14.00\">0.0]</text>\n</g>\n<!-- 658&#45;&gt;659 -->\n<g id=\"edge7\" class=\"edge\">\n<title>658&#45;&gt;659</title>\n<path fill=\"none\" stroke=\"black\" d=\"M964.5,-175.6C964.5,-168.03 964.5,-159.87 964.5,-151.9\"/>\n<polygon fill=\"black\" stroke=\"black\" points=\"968,-151.99 964.5,-141.99 961,-151.99 968,-151.99\"/>\n</g>\n<!-- 856 -->\n<g id=\"node11\" class=\"node\">\n<title>856</title>\n<polygon fill=\"#eef4ab\" stroke=\"black\" points=\"1567.5,-132.5 1175.5,-132.5 1175.5,-79.5 1567.5,-79.5 1567.5,-132.5\"/>\n<text text-anchor=\"middle\" x=\"1371.5\" y=\"-117.3\" font-family=\"Helvetica,sans-Serif\" font-size=\"14.00\">number_of_casualties &lt;= 2.5</text>\n<text text-anchor=\"middle\" x=\"1371.5\" y=\"-102.3\" font-family=\"Helvetica,sans-Serif\" font-size=\"14.00\">samples = 1.8%</text>\n<text text-anchor=\"middle\" x=\"1371.5\" y=\"-87.3\" font-family=\"Helvetica,sans-Serif\" font-size=\"14.00\">value = [0.0, 0.57, 0.254, 0.061, 0.088, 0.0, 0.026, 0.0, 0.0]</text>\n</g>\n<!-- 658&#45;&gt;856 -->\n<g id=\"edge10\" class=\"edge\">\n<title>658&#45;&gt;856</title>\n<path fill=\"none\" stroke=\"black\" d=\"M1098.05,-175.53C1149.33,-162.68 1207.36,-148.14 1256.72,-135.76\"/>\n<polygon fill=\"black\" stroke=\"black\" points=\"1257.45,-139.19 1266.3,-133.36 1255.75,-132.4 1257.45,-139.19\"/>\n</g>\n<!-- 660 -->\n<g id=\"node9\" class=\"node\">\n<title>660</title>\n<polygon fill=\"#c0c0c0\" stroke=\"black\" points=\"955.5,-36 901.5,-36 901.5,0 955.5,0 955.5,-36\"/>\n<text text-anchor=\"middle\" x=\"928.5\" y=\"-14.3\" font-family=\"Helvetica,sans-Serif\" font-size=\"14.00\">(...)</text>\n</g>\n<!-- 659&#45;&gt;660 -->\n<g id=\"edge8\" class=\"edge\">\n<title>659&#45;&gt;660</title>\n<path fill=\"none\" stroke=\"black\" d=\"M950.48,-71.5C947.04,-63.3 943.4,-54.61 940.1,-46.7\"/>\n<polygon fill=\"black\" stroke=\"black\" points=\"943.37,-45.47 936.28,-37.59 936.92,-48.17 943.37,-45.47\"/>\n</g>\n<!-- 661 -->\n<g id=\"node10\" class=\"node\">\n<title>661</title>\n<polygon fill=\"#c0c0c0\" stroke=\"black\" points=\"1027.5,-36 973.5,-36 973.5,0 1027.5,0 1027.5,-36\"/>\n<text text-anchor=\"middle\" x=\"1000.5\" y=\"-14.3\" font-family=\"Helvetica,sans-Serif\" font-size=\"14.00\">(...)</text>\n</g>\n<!-- 659&#45;&gt;661 -->\n<g id=\"edge9\" class=\"edge\">\n<title>659&#45;&gt;661</title>\n<path fill=\"none\" stroke=\"black\" d=\"M978.52,-71.5C981.96,-63.3 985.6,-54.61 988.9,-46.7\"/>\n<polygon fill=\"black\" stroke=\"black\" points=\"992.08,-48.17 992.72,-37.59 985.63,-45.47 992.08,-48.17\"/>\n</g>\n<!-- 857 -->\n<g id=\"node12\" class=\"node\">\n<title>857</title>\n<polygon fill=\"#c0c0c0\" stroke=\"black\" points=\"1362.5,-36 1308.5,-36 1308.5,0 1362.5,0 1362.5,-36\"/>\n<text text-anchor=\"middle\" x=\"1335.5\" y=\"-14.3\" font-family=\"Helvetica,sans-Serif\" font-size=\"14.00\">(...)</text>\n</g>\n<!-- 856&#45;&gt;857 -->\n<g id=\"edge11\" class=\"edge\">\n<title>856&#45;&gt;857</title>\n<path fill=\"none\" stroke=\"black\" d=\"M1360.7,-79.2C1356.44,-69.02 1351.54,-57.31 1347.2,-46.94\"/>\n<polygon fill=\"black\" stroke=\"black\" points=\"1350.44,-45.61 1343.35,-37.74 1343.98,-48.32 1350.44,-45.61\"/>\n</g>\n<!-- 858 -->\n<g id=\"node13\" class=\"node\">\n<title>858</title>\n<polygon fill=\"#c0c0c0\" stroke=\"black\" points=\"1434.5,-36 1380.5,-36 1380.5,0 1434.5,0 1434.5,-36\"/>\n<text text-anchor=\"middle\" x=\"1407.5\" y=\"-14.3\" font-family=\"Helvetica,sans-Serif\" font-size=\"14.00\">(...)</text>\n</g>\n<!-- 856&#45;&gt;858 -->\n<g id=\"edge12\" class=\"edge\">\n<title>856&#45;&gt;858</title>\n<path fill=\"none\" stroke=\"black\" d=\"M1382.3,-79.2C1386.56,-69.02 1391.46,-57.31 1395.8,-46.94\"/>\n<polygon fill=\"black\" stroke=\"black\" points=\"1399.02,-48.32 1399.65,-37.74 1392.56,-45.61 1399.02,-48.32\"/>\n</g>\n</g>\n</svg>\n",
      "text/plain": "<graphviz.sources.Source at 0x19fd6ac1690>"
     },
     "metadata": {},
     "output_type": "display_data"
    },
    {
     "data": {
      "image/svg+xml": "<?xml version=\"1.0\" encoding=\"UTF-8\" standalone=\"no\"?>\n<!DOCTYPE svg PUBLIC \"-//W3C//DTD SVG 1.1//EN\"\n \"http://www.w3.org/Graphics/SVG/1.1/DTD/svg11.dtd\">\n<!-- Generated by graphviz version 7.1.0 (20230121.1956)\n -->\n<!-- Title: Tree Pages: 1 -->\n<svg width=\"1557pt\" height=\"356pt\"\n viewBox=\"0.00 0.00 1557.00 356.00\" xmlns=\"http://www.w3.org/2000/svg\" xmlns:xlink=\"http://www.w3.org/1999/xlink\">\n<g id=\"graph0\" class=\"graph\" transform=\"scale(1 1) rotate(0) translate(4 352)\">\n<title>Tree</title>\n<polygon fill=\"white\" stroke=\"none\" points=\"-4,4 -4,-352 1553,-352 1553,4 -4,4\"/>\n<!-- 0 -->\n<g id=\"node1\" class=\"node\">\n<title>0</title>\n<polygon fill=\"#eca26c\" stroke=\"black\" points=\"949,-348 548,-348 548,-280 949,-280 949,-348\"/>\n<text text-anchor=\"middle\" x=\"748.5\" y=\"-332.8\" font-family=\"Helvetica,sans-Serif\" font-size=\"14.00\">day_6 &lt;= 0.5</text>\n<text text-anchor=\"middle\" x=\"748.5\" y=\"-317.8\" font-family=\"Helvetica,sans-Serif\" font-size=\"14.00\">samples = 100.0%</text>\n<text text-anchor=\"middle\" x=\"748.5\" y=\"-302.8\" font-family=\"Helvetica,sans-Serif\" font-size=\"14.00\">value = [0.784, 0.167, 0.034, 0.009, 0.004, 0.002, 0.001, 0.0</text>\n<text text-anchor=\"middle\" x=\"748.5\" y=\"-287.8\" font-family=\"Helvetica,sans-Serif\" font-size=\"14.00\">0.0]</text>\n</g>\n<!-- 1 -->\n<g id=\"node2\" class=\"node\">\n<title>1</title>\n<polygon fill=\"#ea9a61\" stroke=\"black\" points=\"743.5,-236.5 335.5,-236.5 335.5,-183.5 743.5,-183.5 743.5,-236.5\"/>\n<text text-anchor=\"middle\" x=\"539.5\" y=\"-221.3\" font-family=\"Helvetica,sans-Serif\" font-size=\"14.00\">number_of_casualties &lt;= 1.5</text>\n<text text-anchor=\"middle\" x=\"539.5\" y=\"-206.3\" font-family=\"Helvetica,sans-Serif\" font-size=\"14.00\">samples = 78.9%</text>\n<text text-anchor=\"middle\" x=\"539.5\" y=\"-191.3\" font-family=\"Helvetica,sans-Serif\" font-size=\"14.00\">value = [0.827, 0.14, 0.024, 0.006, 0.001, 0.001, 0.0, 0.0, 0.0]</text>\n</g>\n<!-- 0&#45;&gt;1 -->\n<g id=\"edge1\" class=\"edge\">\n<title>0&#45;&gt;1</title>\n<path fill=\"none\" stroke=\"black\" d=\"M680.07,-279.6C655.17,-267.45 627.16,-253.78 602.73,-241.86\"/>\n<polygon fill=\"black\" stroke=\"black\" points=\"604.39,-238.77 593.87,-237.53 601.32,-245.06 604.39,-238.77\"/>\n<text text-anchor=\"middle\" x=\"600.64\" y=\"-256.81\" font-family=\"Helvetica,sans-Serif\" font-size=\"14.00\">True</text>\n</g>\n<!-- 652 -->\n<g id=\"node7\" class=\"node\">\n<title>652</title>\n<polygon fill=\"#f2c29f\" stroke=\"black\" points=\"1155,-244 762,-244 762,-176 1155,-176 1155,-244\"/>\n<text text-anchor=\"middle\" x=\"958.5\" y=\"-228.8\" font-family=\"Helvetica,sans-Serif\" font-size=\"14.00\">number_of_vehicles &lt;= 2.5</text>\n<text text-anchor=\"middle\" x=\"958.5\" y=\"-213.8\" font-family=\"Helvetica,sans-Serif\" font-size=\"14.00\">samples = 21.1%</text>\n<text text-anchor=\"middle\" x=\"958.5\" y=\"-198.8\" font-family=\"Helvetica,sans-Serif\" font-size=\"14.00\">value = [0.623, 0.267, 0.069, 0.02, 0.014, 0.004, 0.004, 0.0</text>\n<text text-anchor=\"middle\" x=\"958.5\" y=\"-183.8\" font-family=\"Helvetica,sans-Serif\" font-size=\"14.00\">0.0]</text>\n</g>\n<!-- 0&#45;&gt;652 -->\n<g id=\"edge6\" class=\"edge\">\n<title>0&#45;&gt;652</title>\n<path fill=\"none\" stroke=\"black\" d=\"M817.26,-279.6C837.11,-269.96 858.94,-259.36 879.36,-249.44\"/>\n<polygon fill=\"black\" stroke=\"black\" points=\"880.76,-252.65 888.22,-245.13 877.7,-246.36 880.76,-252.65\"/>\n<text text-anchor=\"middle\" x=\"881.41\" y=\"-264.4\" font-family=\"Helvetica,sans-Serif\" font-size=\"14.00\">False</text>\n</g>\n<!-- 2 -->\n<g id=\"node3\" class=\"node\">\n<title>2</title>\n<polygon fill=\"#e58139\" stroke=\"black\" points=\"317,-125 0,-125 0,-87 317,-87 317,-125\"/>\n<text text-anchor=\"middle\" x=\"158.5\" y=\"-109.8\" font-family=\"Helvetica,sans-Serif\" font-size=\"14.00\">samples = 49.6%</text>\n<text text-anchor=\"middle\" x=\"158.5\" y=\"-94.8\" font-family=\"Helvetica,sans-Serif\" font-size=\"14.00\">value = [1.0, 0.0, 0.0, 0.0, 0.0, 0.0, 0.0, 0.0, 0.0]</text>\n</g>\n<!-- 1&#45;&gt;2 -->\n<g id=\"edge2\" class=\"edge\">\n<title>1&#45;&gt;2</title>\n<path fill=\"none\" stroke=\"black\" d=\"M442.87,-183.13C379.56,-166.18 297.83,-144.3 238.25,-128.35\"/>\n<polygon fill=\"black\" stroke=\"black\" points=\"239.41,-125.04 228.85,-125.83 237.6,-131.8 239.41,-125.04\"/>\n</g>\n<!-- 3 -->\n<g id=\"node4\" class=\"node\">\n<title>3</title>\n<polygon fill=\"#f8dfcd\" stroke=\"black\" points=\"753.5,-140 335.5,-140 335.5,-72 753.5,-72 753.5,-140\"/>\n<text text-anchor=\"middle\" x=\"544.5\" y=\"-124.8\" font-family=\"Helvetica,sans-Serif\" font-size=\"14.00\">junction_detail &lt;= 1.5</text>\n<text text-anchor=\"middle\" x=\"544.5\" y=\"-109.8\" font-family=\"Helvetica,sans-Serif\" font-size=\"14.00\">samples = 29.3%</text>\n<text text-anchor=\"middle\" x=\"544.5\" y=\"-94.8\" font-family=\"Helvetica,sans-Serif\" font-size=\"14.00\">value = [0.535, 0.377, 0.065, 0.016, 0.002, 0.004, 0.001, 0.001</text>\n<text text-anchor=\"middle\" x=\"544.5\" y=\"-79.8\" font-family=\"Helvetica,sans-Serif\" font-size=\"14.00\">0.0]</text>\n</g>\n<!-- 1&#45;&gt;3 -->\n<g id=\"edge3\" class=\"edge\">\n<title>1&#45;&gt;3</title>\n<path fill=\"none\" stroke=\"black\" d=\"M540.76,-183.26C541.23,-173.73 541.77,-162.62 542.3,-151.87\"/>\n<polygon fill=\"black\" stroke=\"black\" points=\"545.79,-152.12 542.79,-141.96 538.8,-151.78 545.79,-152.12\"/>\n</g>\n<!-- 4 -->\n<g id=\"node5\" class=\"node\">\n<title>4</title>\n<polygon fill=\"#c0c0c0\" stroke=\"black\" points=\"535.5,-36 481.5,-36 481.5,0 535.5,0 535.5,-36\"/>\n<text text-anchor=\"middle\" x=\"508.5\" y=\"-14.3\" font-family=\"Helvetica,sans-Serif\" font-size=\"14.00\">(...)</text>\n</g>\n<!-- 3&#45;&gt;4 -->\n<g id=\"edge4\" class=\"edge\">\n<title>3&#45;&gt;4</title>\n<path fill=\"none\" stroke=\"black\" d=\"M530.48,-71.5C527.04,-63.3 523.4,-54.61 520.1,-46.7\"/>\n<polygon fill=\"black\" stroke=\"black\" points=\"523.37,-45.47 516.28,-37.59 516.92,-48.17 523.37,-45.47\"/>\n</g>\n<!-- 355 -->\n<g id=\"node6\" class=\"node\">\n<title>355</title>\n<polygon fill=\"#c0c0c0\" stroke=\"black\" points=\"607.5,-36 553.5,-36 553.5,0 607.5,0 607.5,-36\"/>\n<text text-anchor=\"middle\" x=\"580.5\" y=\"-14.3\" font-family=\"Helvetica,sans-Serif\" font-size=\"14.00\">(...)</text>\n</g>\n<!-- 3&#45;&gt;355 -->\n<g id=\"edge5\" class=\"edge\">\n<title>3&#45;&gt;355</title>\n<path fill=\"none\" stroke=\"black\" d=\"M558.52,-71.5C561.96,-63.3 565.6,-54.61 568.9,-46.7\"/>\n<polygon fill=\"black\" stroke=\"black\" points=\"572.08,-48.17 572.72,-37.59 565.63,-45.47 572.08,-48.17\"/>\n</g>\n<!-- 653 -->\n<g id=\"node8\" class=\"node\">\n<title>653</title>\n<polygon fill=\"#e68742\" stroke=\"black\" points=\"1129.5,-132.5 779.5,-132.5 779.5,-79.5 1129.5,-79.5 1129.5,-132.5\"/>\n<text text-anchor=\"middle\" x=\"954.5\" y=\"-117.3\" font-family=\"Helvetica,sans-Serif\" font-size=\"14.00\">day_7 &lt;= 0.5</text>\n<text text-anchor=\"middle\" x=\"954.5\" y=\"-102.3\" font-family=\"Helvetica,sans-Serif\" font-size=\"14.00\">samples = 12.2%</text>\n<text text-anchor=\"middle\" x=\"954.5\" y=\"-87.3\" font-family=\"Helvetica,sans-Serif\" font-size=\"14.00\">value = [0.957, 0.043, 0.0, 0.0, 0.0, 0.0, 0.0, 0.0, 0.0]</text>\n</g>\n<!-- 652&#45;&gt;653 -->\n<g id=\"edge7\" class=\"edge\">\n<title>652&#45;&gt;653</title>\n<path fill=\"none\" stroke=\"black\" d=\"M957.19,-175.6C956.79,-165.47 956.35,-154.28 955.95,-143.93\"/>\n<polygon fill=\"black\" stroke=\"black\" points=\"959.46,-144.07 955.57,-134.22 952.46,-144.35 959.46,-144.07\"/>\n</g>\n<!-- 668 -->\n<g id=\"node11\" class=\"node\">\n<title>668</title>\n<polygon fill=\"#ebf29e\" stroke=\"black\" points=\"1549,-140 1148,-140 1148,-72 1549,-72 1549,-140\"/>\n<text text-anchor=\"middle\" x=\"1348.5\" y=\"-124.8\" font-family=\"Helvetica,sans-Serif\" font-size=\"14.00\">hour &lt;= 20.5</text>\n<text text-anchor=\"middle\" x=\"1348.5\" y=\"-109.8\" font-family=\"Helvetica,sans-Serif\" font-size=\"14.00\">samples = 8.9%</text>\n<text text-anchor=\"middle\" x=\"1348.5\" y=\"-94.8\" font-family=\"Helvetica,sans-Serif\" font-size=\"14.00\">value = [0.164, 0.574, 0.164, 0.048, 0.034, 0.009, 0.009, 0.0</text>\n<text text-anchor=\"middle\" x=\"1348.5\" y=\"-79.8\" font-family=\"Helvetica,sans-Serif\" font-size=\"14.00\">0.0]</text>\n</g>\n<!-- 652&#45;&gt;668 -->\n<g id=\"edge10\" class=\"edge\">\n<title>652&#45;&gt;668</title>\n<path fill=\"none\" stroke=\"black\" d=\"M1086.47,-175.53C1125.94,-165.21 1169.57,-153.8 1209.73,-143.29\"/>\n<polygon fill=\"black\" stroke=\"black\" points=\"1210.43,-146.73 1219.22,-140.81 1208.66,-139.96 1210.43,-146.73\"/>\n</g>\n<!-- 654 -->\n<g id=\"node9\" class=\"node\">\n<title>654</title>\n<polygon fill=\"#c0c0c0\" stroke=\"black\" points=\"945.5,-36 891.5,-36 891.5,0 945.5,0 945.5,-36\"/>\n<text text-anchor=\"middle\" x=\"918.5\" y=\"-14.3\" font-family=\"Helvetica,sans-Serif\" font-size=\"14.00\">(...)</text>\n</g>\n<!-- 653&#45;&gt;654 -->\n<g id=\"edge8\" class=\"edge\">\n<title>653&#45;&gt;654</title>\n<path fill=\"none\" stroke=\"black\" d=\"M943.7,-79.2C939.44,-69.02 934.54,-57.31 930.2,-46.94\"/>\n<polygon fill=\"black\" stroke=\"black\" points=\"933.44,-45.61 926.35,-37.74 926.98,-48.32 933.44,-45.61\"/>\n</g>\n<!-- 667 -->\n<g id=\"node10\" class=\"node\">\n<title>667</title>\n<polygon fill=\"#c0c0c0\" stroke=\"black\" points=\"1017.5,-36 963.5,-36 963.5,0 1017.5,0 1017.5,-36\"/>\n<text text-anchor=\"middle\" x=\"990.5\" y=\"-14.3\" font-family=\"Helvetica,sans-Serif\" font-size=\"14.00\">(...)</text>\n</g>\n<!-- 653&#45;&gt;667 -->\n<g id=\"edge9\" class=\"edge\">\n<title>653&#45;&gt;667</title>\n<path fill=\"none\" stroke=\"black\" d=\"M965.3,-79.2C969.56,-69.02 974.46,-57.31 978.8,-46.94\"/>\n<polygon fill=\"black\" stroke=\"black\" points=\"982.02,-48.32 982.65,-37.74 975.56,-45.61 982.02,-48.32\"/>\n</g>\n<!-- 669 -->\n<g id=\"node12\" class=\"node\">\n<title>669</title>\n<polygon fill=\"#c0c0c0\" stroke=\"black\" points=\"1339.5,-36 1285.5,-36 1285.5,0 1339.5,0 1339.5,-36\"/>\n<text text-anchor=\"middle\" x=\"1312.5\" y=\"-14.3\" font-family=\"Helvetica,sans-Serif\" font-size=\"14.00\">(...)</text>\n</g>\n<!-- 668&#45;&gt;669 -->\n<g id=\"edge11\" class=\"edge\">\n<title>668&#45;&gt;669</title>\n<path fill=\"none\" stroke=\"black\" d=\"M1334.48,-71.5C1331.04,-63.3 1327.4,-54.61 1324.1,-46.7\"/>\n<polygon fill=\"black\" stroke=\"black\" points=\"1327.37,-45.47 1320.28,-37.59 1320.92,-48.17 1327.37,-45.47\"/>\n</g>\n<!-- 932 -->\n<g id=\"node13\" class=\"node\">\n<title>932</title>\n<polygon fill=\"#c0c0c0\" stroke=\"black\" points=\"1411.5,-36 1357.5,-36 1357.5,0 1411.5,0 1411.5,-36\"/>\n<text text-anchor=\"middle\" x=\"1384.5\" y=\"-14.3\" font-family=\"Helvetica,sans-Serif\" font-size=\"14.00\">(...)</text>\n</g>\n<!-- 668&#45;&gt;932 -->\n<g id=\"edge12\" class=\"edge\">\n<title>668&#45;&gt;932</title>\n<path fill=\"none\" stroke=\"black\" d=\"M1362.52,-71.5C1365.96,-63.3 1369.6,-54.61 1372.9,-46.7\"/>\n<polygon fill=\"black\" stroke=\"black\" points=\"1376.08,-48.17 1376.72,-37.59 1369.63,-45.47 1376.08,-48.17\"/>\n</g>\n</g>\n</svg>\n",
      "text/plain": "<graphviz.sources.Source at 0x19fd7d7d950>"
     },
     "metadata": {},
     "output_type": "display_data"
    }
   ],
   "source": [
    "# Export the first three decision trees from the forest\n",
    "for i in range(3):\n",
    "    tree = rf.estimators_[i]\n",
    "    dot_data = export_graphviz(tree,\n",
    "                               feature_names=X_train.columns,\n",
    "                               filled=True,\n",
    "                               max_depth=2,\n",
    "                               impurity=False,\n",
    "                               proportion=True)\n",
    "    graph = graphviz.Source(dot_data)\n",
    "    display(graph)"
   ],
   "metadata": {
    "collapsed": false
   }
  }
 ],
 "metadata": {
  "kernelspec": {
   "display_name": "Python 3",
   "language": "python",
   "name": "python3"
  },
  "language_info": {
   "codemirror_mode": {
    "name": "ipython",
    "version": 2
   },
   "file_extension": ".py",
   "mimetype": "text/x-python",
   "name": "python",
   "nbconvert_exporter": "python",
   "pygments_lexer": "ipython2",
   "version": "2.7.6"
  }
 },
 "nbformat": 4,
 "nbformat_minor": 0
}
