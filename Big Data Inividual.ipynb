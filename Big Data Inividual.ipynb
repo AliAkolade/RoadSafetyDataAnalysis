{
 "cells": [
  {
   "cell_type": "code",
   "execution_count": 320,
   "metadata": {
    "collapsed": true
   },
   "outputs": [],
   "source": [
    "import numpy as np\n",
    "import pandas as pd\n",
    "from bayes_opt import BayesianOptimization\n",
    "from sklearn.linear_model import LinearRegression\n",
    "from sklearn.metrics import r2_score, mean_absolute_percentage_error, mean_squared_error\n",
    "from sklearn.model_selection import GridSearchCV, RandomizedSearchCV, train_test_split"
   ]
  },
  {
   "cell_type": "code",
   "execution_count": 321,
   "outputs": [],
   "source": [
    "# Load Dataset\n",
    "X_train = pd.read_csv(\"dataset_5yrs_xTrain.csv\")\n",
    "X_remain = pd.read_csv(\"dataset_5yrs_xTest.csv\")\n",
    "y_train = pd.read_csv(\"dataset_5yrs_yTrain.csv\")\n",
    "y_remain = pd.read_csv(\"dataset_5yrs_yTest.csv\")"
   ],
   "metadata": {
    "collapsed": false
   }
  },
  {
   "cell_type": "code",
   "execution_count": 322,
   "outputs": [],
   "source": [
    "# Split X_remain into X_validate and X_test\n",
    "X_validate, X_test, y_validate, y_test = train_test_split(X_remain, y_remain, test_size=0.5)"
   ],
   "metadata": {
    "collapsed": false
   }
  },
  {
   "cell_type": "code",
   "execution_count": 323,
   "outputs": [
    {
     "data": {
      "text/plain": "no_of_accidents                            1.000000\nnumber_of_vehicles                         0.843779\nnumber_of_casualties                       0.747080\nThursday                                   0.260678\nTuesday                                    0.253360\nSunday                                     0.233905\nFriday                                     0.230826\nWednesday                                  0.229776\nSaturday                                   0.228003\nMonday                                     0.221901\nlocation                                   0.052231\nmonth                                      0.013590\naccident_severity                          0.009733\ntrunk_road_flag                           -0.018806\ncarriageway_hazards                       -0.022832\nurban_or_rural_area                       -0.024194\nspecial_conditions_at_site                -0.031251\npedestrian_crossing_human_control         -0.037582\nspeed_limit                               -0.045539\nfirst_road_number                         -0.045965\npedestrian_crossing_physical_facilities   -0.098540\nlight_conditions                          -0.114865\nroad_surface_conditions                   -0.116032\nweather_conditions                        -0.126704\njunction_detail                           -0.144064\nroad_type                                 -0.153423\nfirst_road_class                          -0.170433\nName: no_of_accidents, dtype: float64"
     },
     "execution_count": 323,
     "metadata": {},
     "output_type": "execute_result"
    }
   ],
   "source": [
    "# Variable Correlations\n",
    "train_df = pd.concat([y_train, X_train], axis=1)\n",
    "corr_matrix = train_df.corr(method='pearson')\n",
    "corr_matrix[\"no_of_accidents\"].sort_values(ascending=False)"
   ],
   "metadata": {
    "collapsed": false
   }
  },
  {
   "cell_type": "markdown",
   "source": [
    "Regression Models"
   ],
   "metadata": {
    "collapsed": false
   }
  },
  {
   "cell_type": "code",
   "execution_count": 324,
   "outputs": [],
   "source": [
    "# Method for evaluating models\n",
    "def print_metrics(y_pred, y_true):\n",
    "    # Mean Squared Error\n",
    "    mse = mean_squared_error(y_true, y_pred)\n",
    "    print(\"Mean Squared Error (MSE): \", mse)\n",
    "\n",
    "    # Root Mean Squared Error\n",
    "    rmse = np.sqrt(mse)\n",
    "    print(\"Root Mean Squared Error (RMSE): \", rmse)\n",
    "\n",
    "    # R-squared\n",
    "    r2 = r2_score(y_true, y_pred)\n",
    "    print(\"R-squared (R2): \", r2)\n",
    "\n",
    "    # Mean Absolute Percentage Error\n",
    "    mape = mean_absolute_percentage_error(y_true, y_pred)\n",
    "    print(\"Mean Absolute Percentage Error (MAPE): \", mape)"
   ],
   "metadata": {
    "collapsed": false
   }
  },
  {
   "cell_type": "code",
   "execution_count": 325,
   "outputs": [
    {
     "name": "stdout",
     "output_type": "stream",
     "text": [
      "Mean Squared Error (MSE):  0.0007531306364851331\n",
      "Root Mean Squared Error (RMSE):  0.027443225693878137\n",
      "R-squared (R2):  0.9983552304365708\n",
      "Mean Absolute Percentage Error (MAPE):  0.017644798363835337\n"
     ]
    }
   ],
   "source": [
    "#Linear Regression\n",
    "# Create a linear regression object\n",
    "lr_model = LinearRegression()\n",
    "\n",
    "# Fit the model to the training data\n",
    "lr_model.fit(X_train, y_train)\n",
    "\n",
    "# Make predictions on the validation set\n",
    "y_predict = lr_model.predict(X_validate)\n",
    "\n",
    "print_metrics(y_predict, y_validate)"
   ],
   "metadata": {
    "collapsed": false
   }
  },
  {
   "cell_type": "code",
   "execution_count": 326,
   "outputs": [
    {
     "name": "stdout",
     "output_type": "stream",
     "text": [
      "Mean Squared Error (MSE):  0.0007531306364851331\n",
      "Root Mean Squared Error (RMSE):  0.027443225693878137\n",
      "R-squared (R2):  0.9983552304365708\n",
      "Mean Absolute Percentage Error (MAPE):  0.017644798363835337\n"
     ]
    }
   ],
   "source": [
    "# Using Grid Search to improve LR model\n",
    "#  Define a range of hyper-parameters to search over\n",
    "param_grid = {\"fit_intercept\": [True, False]}\n",
    "\n",
    "# Create a grid search object\n",
    "grid_search = GridSearchCV(lr_model, param_grid, cv=5, scoring=\"neg_mean_squared_error\")\n",
    "\n",
    "# Fit the grid search object to the training data\n",
    "grid_search.fit(X_train, y_train)\n",
    "\n",
    "# Make predictions on the validation set using the best estimator\n",
    "best_model = grid_search.best_estimator_\n",
    "y_predict = best_model.predict(X_validate)\n",
    "\n",
    "print_metrics(y_predict, y_validate)\n",
    "# No difference"
   ],
   "metadata": {
    "collapsed": false
   }
  },
  {
   "cell_type": "code",
   "execution_count": 327,
   "outputs": [
    {
     "name": "stdout",
     "output_type": "stream",
     "text": [
      "Mean Squared Error (MSE):  0.0007531306364851331\n",
      "Root Mean Squared Error (RMSE):  0.027443225693878137\n",
      "R-squared (R2):  0.9983552304365708\n",
      "Mean Absolute Percentage Error (MAPE):  0.017644798363835337\n"
     ]
    }
   ],
   "source": [
    "# Using Randomized search to improve LR model\n",
    "# Define a range of hyper-parameters to search over\n",
    "param_dist = {\"fit_intercept\": [True, False], \"copy_X\": [True, False], \"n_jobs\": [1, -1],\n",
    "              \"positive\": [True, False]}\n",
    "\n",
    "# Create a randomized search object\n",
    "random_search = RandomizedSearchCV(lr_model, param_distributions=param_dist, n_iter=16, cv=5,\n",
    "                                   scoring=\"neg_mean_squared_error\", random_state=42)\n",
    "\n",
    "# Fit the randomized search object to the training data\n",
    "random_search.fit(X_train, y_train)\n",
    "\n",
    "# Make predictions on the validation set using the best estimator\n",
    "best_model = random_search.best_estimator_\n",
    "y_predict = best_model.predict(X_validate)\n",
    "\n",
    "# Calculate the MSE of the predictions\n",
    "print_metrics(y_predict, y_validate)\n",
    "# No difference"
   ],
   "metadata": {
    "collapsed": false
   }
  },
  {
   "cell_type": "code",
   "execution_count": 328,
   "outputs": [
    {
     "name": "stdout",
     "output_type": "stream",
     "text": [
      "|   iter    |  target   |  copy_x   | fit_in... | positive  |\n",
      "-------------------------------------------------------------\n",
      "| \u001B[0m1        \u001B[0m | \u001B[0m-0.000753\u001B[0m | \u001B[0m0.3745   \u001B[0m | \u001B[0m0.9507   \u001B[0m | \u001B[0m0.732    \u001B[0m |\n",
      "| \u001B[0m2        \u001B[0m | \u001B[0m-1.712   \u001B[0m | \u001B[0m0.5987   \u001B[0m | \u001B[0m0.156    \u001B[0m | \u001B[0m0.156    \u001B[0m |\n",
      "| \u001B[0m3        \u001B[0m | \u001B[0m-0.000753\u001B[0m | \u001B[0m0.05808  \u001B[0m | \u001B[0m0.8662   \u001B[0m | \u001B[0m0.6011   \u001B[0m |\n",
      "| \u001B[0m4        \u001B[0m | \u001B[0m-1.712   \u001B[0m | \u001B[0m0.7081   \u001B[0m | \u001B[0m0.02058  \u001B[0m | \u001B[0m0.9699   \u001B[0m |\n",
      "| \u001B[0m5        \u001B[0m | \u001B[0m-1.712   \u001B[0m | \u001B[0m0.8324   \u001B[0m | \u001B[0m0.2123   \u001B[0m | \u001B[0m0.1818   \u001B[0m |\n",
      "| \u001B[0m6        \u001B[0m | \u001B[0m-0.000753\u001B[0m | \u001B[0m0.0      \u001B[0m | \u001B[0m1.0      \u001B[0m | \u001B[0m1.0      \u001B[0m |\n",
      "| \u001B[95m7        \u001B[0m | \u001B[95m-0.000753\u001B[0m | \u001B[95m0.0      \u001B[0m | \u001B[95m1.0      \u001B[0m | \u001B[95m0.0      \u001B[0m |\n",
      "| \u001B[0m8        \u001B[0m | \u001B[0m-0.000753\u001B[0m | \u001B[0m1.0      \u001B[0m | \u001B[0m1.0      \u001B[0m | \u001B[0m1.0      \u001B[0m |\n",
      "| \u001B[0m9        \u001B[0m | \u001B[0m-0.000753\u001B[0m | \u001B[0m1.0      \u001B[0m | \u001B[0m1.0      \u001B[0m | \u001B[0m0.0      \u001B[0m |\n",
      "| \u001B[0m10       \u001B[0m | \u001B[0m-0.000753\u001B[0m | \u001B[0m1.0      \u001B[0m | \u001B[0m1.0      \u001B[0m | \u001B[0m0.496    \u001B[0m |\n",
      "| \u001B[0m11       \u001B[0m | \u001B[0m-0.000753\u001B[0m | \u001B[0m0.4455   \u001B[0m | \u001B[0m1.0      \u001B[0m | \u001B[0m0.2002   \u001B[0m |\n",
      "| \u001B[0m12       \u001B[0m | \u001B[0m-0.000753\u001B[0m | \u001B[0m0.0      \u001B[0m | \u001B[0m1.0      \u001B[0m | \u001B[0m0.4854   \u001B[0m |\n",
      "| \u001B[0m13       \u001B[0m | \u001B[0m-0.000753\u001B[0m | \u001B[0m0.5852   \u001B[0m | \u001B[0m1.0      \u001B[0m | \u001B[0m1.0      \u001B[0m |\n",
      "| \u001B[0m14       \u001B[0m | \u001B[0m-0.000753\u001B[0m | \u001B[0m0.0127   \u001B[0m | \u001B[0m0.7015   \u001B[0m | \u001B[0m0.9944   \u001B[0m |\n",
      "| \u001B[0m15       \u001B[0m | \u001B[0m-0.000753\u001B[0m | \u001B[0m0.647    \u001B[0m | \u001B[0m1.0      \u001B[0m | \u001B[0m0.0      \u001B[0m |\n",
      "| \u001B[0m16       \u001B[0m | \u001B[0m-0.000753\u001B[0m | \u001B[0m0.7197   \u001B[0m | \u001B[0m1.0      \u001B[0m | \u001B[0m0.6649   \u001B[0m |\n",
      "| \u001B[0m17       \u001B[0m | \u001B[0m-0.000753\u001B[0m | \u001B[0m0.2783   \u001B[0m | \u001B[0m1.0      \u001B[0m | \u001B[0m0.0      \u001B[0m |\n",
      "| \u001B[0m18       \u001B[0m | \u001B[0m-0.000753\u001B[0m | \u001B[0m0.1481   \u001B[0m | \u001B[0m1.0      \u001B[0m | \u001B[0m0.7834   \u001B[0m |\n",
      "| \u001B[0m19       \u001B[0m | \u001B[0m-0.000753\u001B[0m | \u001B[0m0.8484   \u001B[0m | \u001B[0m1.0      \u001B[0m | \u001B[0m0.2441   \u001B[0m |\n",
      "| \u001B[0m20       \u001B[0m | \u001B[0m-0.000753\u001B[0m | \u001B[0m0.199    \u001B[0m | \u001B[0m0.8791   \u001B[0m | \u001B[0m1.0      \u001B[0m |\n",
      "| \u001B[0m21       \u001B[0m | \u001B[0m-0.000753\u001B[0m | \u001B[0m0.0      \u001B[0m | \u001B[0m0.8416   \u001B[0m | \u001B[0m0.8517   \u001B[0m |\n",
      "| \u001B[0m22       \u001B[0m | \u001B[0m-0.000753\u001B[0m | \u001B[0m0.2808   \u001B[0m | \u001B[0m1.0      \u001B[0m | \u001B[0m0.473    \u001B[0m |\n",
      "| \u001B[0m23       \u001B[0m | \u001B[0m-0.000753\u001B[0m | \u001B[0m0.0      \u001B[0m | \u001B[0m0.8391   \u001B[0m | \u001B[0m0.2338   \u001B[0m |\n",
      "| \u001B[0m24       \u001B[0m | \u001B[0m-0.000753\u001B[0m | \u001B[0m1.0      \u001B[0m | \u001B[0m1.0      \u001B[0m | \u001B[0m0.7848   \u001B[0m |\n",
      "| \u001B[0m25       \u001B[0m | \u001B[0m-0.000753\u001B[0m | \u001B[0m0.06548  \u001B[0m | \u001B[0m1.0      \u001B[0m | \u001B[0m0.2093   \u001B[0m |\n",
      "| \u001B[0m26       \u001B[0m | \u001B[0m-0.000753\u001B[0m | \u001B[0m0.3191   \u001B[0m | \u001B[0m1.0      \u001B[0m | \u001B[0m1.0      \u001B[0m |\n",
      "| \u001B[0m27       \u001B[0m | \u001B[0m-0.000753\u001B[0m | \u001B[0m0.0      \u001B[0m | \u001B[0m0.8375   \u001B[0m | \u001B[0m1.0      \u001B[0m |\n",
      "| \u001B[0m28       \u001B[0m | \u001B[0m-0.000753\u001B[0m | \u001B[0m0.5728   \u001B[0m | \u001B[0m1.0      \u001B[0m | \u001B[0m0.4567   \u001B[0m |\n",
      "| \u001B[0m29       \u001B[0m | \u001B[0m-0.000753\u001B[0m | \u001B[0m0.0      \u001B[0m | \u001B[0m0.657    \u001B[0m | \u001B[0m0.6088   \u001B[0m |\n",
      "| \u001B[0m30       \u001B[0m | \u001B[0m-0.000753\u001B[0m | \u001B[0m1.0      \u001B[0m | \u001B[0m1.0      \u001B[0m | \u001B[0m0.2115   \u001B[0m |\n",
      "| \u001B[0m31       \u001B[0m | \u001B[0m-0.000753\u001B[0m | \u001B[0m0.8207   \u001B[0m | \u001B[0m1.0      \u001B[0m | \u001B[0m1.0      \u001B[0m |\n",
      "| \u001B[0m32       \u001B[0m | \u001B[0m-0.000753\u001B[0m | \u001B[0m0.0      \u001B[0m | \u001B[0m0.8061   \u001B[0m | \u001B[0m0.4412   \u001B[0m |\n",
      "| \u001B[0m33       \u001B[0m | \u001B[0m-0.000753\u001B[0m | \u001B[0m0.5177   \u001B[0m | \u001B[0m1.0      \u001B[0m | \u001B[0m0.785    \u001B[0m |\n",
      "| \u001B[0m34       \u001B[0m | \u001B[0m-0.000753\u001B[0m | \u001B[0m0.001514 \u001B[0m | \u001B[0m0.5742   \u001B[0m | \u001B[0m0.8316   \u001B[0m |\n",
      "| \u001B[0m35       \u001B[0m | \u001B[0m-0.000753\u001B[0m | \u001B[0m0.0      \u001B[0m | \u001B[0m0.6935   \u001B[0m | \u001B[0m0.7682   \u001B[0m |\n",
      "| \u001B[0m36       \u001B[0m | \u001B[0m-1.712   \u001B[0m | \u001B[0m0.0003449\u001B[0m | \u001B[0m0.3856   \u001B[0m | \u001B[0m0.9911   \u001B[0m |\n",
      "| \u001B[0m37       \u001B[0m | \u001B[0m-1.712   \u001B[0m | \u001B[0m0.0      \u001B[0m | \u001B[0m0.3997   \u001B[0m | \u001B[0m0.0      \u001B[0m |\n",
      "| \u001B[95m38       \u001B[0m | \u001B[95m-0.000753\u001B[0m | \u001B[95m0.1355   \u001B[0m | \u001B[95m0.9459   \u001B[0m | \u001B[95m0.1005   \u001B[0m |\n",
      "| \u001B[0m39       \u001B[0m | \u001B[0m-0.000753\u001B[0m | \u001B[0m1.0      \u001B[0m | \u001B[0m0.6541   \u001B[0m | \u001B[0m1.0      \u001B[0m |\n",
      "| \u001B[0m40       \u001B[0m | \u001B[0m-0.000753\u001B[0m | \u001B[0m1.0      \u001B[0m | \u001B[0m0.6948   \u001B[0m | \u001B[0m0.635    \u001B[0m |\n",
      "| \u001B[0m41       \u001B[0m | \u001B[0m-0.000753\u001B[0m | \u001B[0m0.6356   \u001B[0m | \u001B[0m0.7041   \u001B[0m | \u001B[0m0.8062   \u001B[0m |\n",
      "| \u001B[0m42       \u001B[0m | \u001B[0m-1.712   \u001B[0m | \u001B[0m0.7668   \u001B[0m | \u001B[0m0.2231   \u001B[0m | \u001B[0m0.2051   \u001B[0m |\n",
      "| \u001B[0m43       \u001B[0m | \u001B[0m-0.000753\u001B[0m | \u001B[0m0.4882   \u001B[0m | \u001B[0m0.8013   \u001B[0m | \u001B[0m0.8758   \u001B[0m |\n",
      "| \u001B[0m44       \u001B[0m | \u001B[0m-1.712   \u001B[0m | \u001B[0m0.5447   \u001B[0m | \u001B[0m0.3864   \u001B[0m | \u001B[0m0.1132   \u001B[0m |\n",
      "| \u001B[0m45       \u001B[0m | \u001B[0m-0.000753\u001B[0m | \u001B[0m0.2839   \u001B[0m | \u001B[0m0.6247   \u001B[0m | \u001B[0m0.6418   \u001B[0m |\n",
      "| \u001B[0m46       \u001B[0m | \u001B[0m-0.000753\u001B[0m | \u001B[0m0.8915   \u001B[0m | \u001B[0m0.7989   \u001B[0m | \u001B[0m0.8463   \u001B[0m |\n",
      "| \u001B[0m47       \u001B[0m | \u001B[0m-1.712   \u001B[0m | \u001B[0m0.9038   \u001B[0m | \u001B[0m0.1117   \u001B[0m | \u001B[0m0.2168   \u001B[0m |\n",
      "| \u001B[0m48       \u001B[0m | \u001B[0m-0.000753\u001B[0m | \u001B[0m0.9951   \u001B[0m | \u001B[0m0.6886   \u001B[0m | \u001B[0m0.6486   \u001B[0m |\n",
      "| \u001B[0m49       \u001B[0m | \u001B[0m-0.000753\u001B[0m | \u001B[0m0.6109   \u001B[0m | \u001B[0m0.769    \u001B[0m | \u001B[0m0.5398   \u001B[0m |\n",
      "| \u001B[95m50       \u001B[0m | \u001B[95m-0.000753\u001B[0m | \u001B[95m0.9964   \u001B[0m | \u001B[95m0.7442   \u001B[0m | \u001B[95m0.01303  \u001B[0m |\n",
      "| \u001B[0m51       \u001B[0m | \u001B[0m-0.000753\u001B[0m | \u001B[0m0.7603   \u001B[0m | \u001B[0m0.6107   \u001B[0m | \u001B[0m0.7538   \u001B[0m |\n",
      "| \u001B[0m52       \u001B[0m | \u001B[0m-0.000753\u001B[0m | \u001B[0m1.0      \u001B[0m | \u001B[0m0.7749   \u001B[0m | \u001B[0m0.2858   \u001B[0m |\n",
      "| \u001B[0m53       \u001B[0m | \u001B[0m-0.000753\u001B[0m | \u001B[0m0.7666   \u001B[0m | \u001B[0m0.6022   \u001B[0m | \u001B[0m0.7502   \u001B[0m |\n",
      "| \u001B[0m54       \u001B[0m | \u001B[0m-0.000753\u001B[0m | \u001B[0m0.1951   \u001B[0m | \u001B[0m0.6681   \u001B[0m | \u001B[0m0.8456   \u001B[0m |\n",
      "| \u001B[0m55       \u001B[0m | \u001B[0m-0.000753\u001B[0m | \u001B[0m0.2735   \u001B[0m | \u001B[0m0.7897   \u001B[0m | \u001B[0m0.4164   \u001B[0m |\n",
      "=============================================================\n",
      "Mean Squared Error (MSE):  0.0007531306364851426\n",
      "Root Mean Squared Error (RMSE):  0.027443225693878307\n",
      "R-squared (R2):  0.9983552304365708\n",
      "Mean Absolute Percentage Error (MAPE):  0.01764479836383521\n"
     ]
    }
   ],
   "source": [
    "# Improving LR model using Bayesian Optimization\n",
    "\n",
    "# Define the function to optimize\n",
    "def optimize_linear_regression(fit_intercept, copy_x, positive):\n",
    "    # Convert the continuous value of copy_X to a boolean\n",
    "    fit_intercept = bool(round(fit_intercept))\n",
    "    copy_x = bool(round(copy_x))\n",
    "    positive = bool(round(positive))\n",
    "    # Create a linear regression model with the given hyper-parameters\n",
    "    model = LinearRegression(fit_intercept=fit_intercept, copy_X=copy_x, positive=positive)\n",
    "    # n_jobs=n_jobs\n",
    "    # Fit the model to the training data\n",
    "    model.fit(X_train.values, y_train.values)\n",
    "    # Calculate the mean squared error on the validation set\n",
    "    mse = np.mean((model.predict(X_validate.values) - y_validate.values) ** 2)\n",
    "    # Return the negative mean squared error (to be maximized by the optimizer)\n",
    "    return -mse\n",
    "\n",
    "\n",
    "# Define the hyperparameter space to optimize over\n",
    "pbounds = {'fit_intercept': (0, 1), 'copy_x': (0, 1), 'positive': (0, 1)}\n",
    "# 'n_jobs': (None, 1, -1),\n",
    "\n",
    "# Create the optimizer object\n",
    "optimizer = BayesianOptimization(f=optimize_linear_regression, pbounds=pbounds, random_state=42)\n",
    "\n",
    "# Run the optimization for a given number of iterations\n",
    "optimizer.maximize(init_points=5, n_iter=50)\n",
    "\n",
    "# Get the best hyper-parameters found by the optimizer\n",
    "best_fit_intercept = optimizer.max['params']['fit_intercept']\n",
    "best_copy_X = optimizer.max['params']['copy_x']\n",
    "# best_n_jobs = optimizer.max['params']['n_jobs']\n",
    "best_positive = optimizer.max['params']['positive']\n",
    "\n",
    "# Create a linear regression model with the best hyper-parameters and fit it to the data\n",
    "best_model = LinearRegression(fit_intercept=bool(round(best_fit_intercept)), copy_X=bool(round(best_copy_X)),\n",
    "                              positive=bool(round(best_positive)))\n",
    "# n_jobs=best_n_jobs,\n",
    "best_model.fit(X_train, y_train)\n",
    "\n",
    "# Make predictions on the validation set using the best estimator\n",
    "y_predict = best_model.predict(X_validate)\n",
    "\n",
    "print_metrics(y_predict, y_validate)\n",
    "# No difference"
   ],
   "metadata": {
    "collapsed": false
   }
  },
  {
   "cell_type": "markdown",
   "source": [
    "Linear regression model has reached its maximum performance given the available data and the chosen hyper-parameters.\n",
    "\n",
    "This is probably because the chosen hyper-parameters are already near-optimal and further tuning won't make a significant difference in the model's performance."
   ],
   "metadata": {
    "collapsed": false
   }
  }
 ],
 "metadata": {
  "kernelspec": {
   "display_name": "Python 3",
   "language": "python",
   "name": "python3"
  },
  "language_info": {
   "codemirror_mode": {
    "name": "ipython",
    "version": 2
   },
   "file_extension": ".py",
   "mimetype": "text/x-python",
   "name": "python",
   "nbconvert_exporter": "python",
   "pygments_lexer": "ipython2",
   "version": "2.7.6"
  }
 },
 "nbformat": 4,
 "nbformat_minor": 0
}
